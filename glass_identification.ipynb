{
 "cells": [
  {
   "cell_type": "code",
   "execution_count": 1,
   "id": "6c77b258",
   "metadata": {},
   "outputs": [],
   "source": [
    "import numpy as np\n",
    "import pandas as pd\n",
    "import matplotlib.pyplot as plt\n",
    "import seaborn as sns"
   ]
  },
  {
   "cell_type": "code",
   "execution_count": 2,
   "id": "3f5893be",
   "metadata": {},
   "outputs": [],
   "source": [
    "#downloading and exploring the dataset\n",
    "#shaping the data set\n",
    "df=pd.read_csv(r'https://raw.githubusercontent.com/dsrscientist/dataset3/main/glass.csv')"
   ]
  },
  {
   "cell_type": "code",
   "execution_count": 59,
   "id": "b6452322",
   "metadata": {},
   "outputs": [
    {
     "data": {
      "text/html": [
       "<div>\n",
       "<style scoped>\n",
       "    .dataframe tbody tr th:only-of-type {\n",
       "        vertical-align: middle;\n",
       "    }\n",
       "\n",
       "    .dataframe tbody tr th {\n",
       "        vertical-align: top;\n",
       "    }\n",
       "\n",
       "    .dataframe thead th {\n",
       "        text-align: right;\n",
       "    }\n",
       "</style>\n",
       "<table border=\"1\" class=\"dataframe\">\n",
       "  <thead>\n",
       "    <tr style=\"text-align: right;\">\n",
       "      <th></th>\n",
       "      <th>1.52101</th>\n",
       "      <th>13.64</th>\n",
       "      <th>4.49</th>\n",
       "      <th>1.10</th>\n",
       "      <th>71.78</th>\n",
       "      <th>0.06</th>\n",
       "      <th>8.75</th>\n",
       "      <th>0.00</th>\n",
       "      <th>0.00.1</th>\n",
       "      <th>Type</th>\n",
       "    </tr>\n",
       "  </thead>\n",
       "  <tbody>\n",
       "    <tr>\n",
       "      <th>0</th>\n",
       "      <td>1.51761</td>\n",
       "      <td>13.89</td>\n",
       "      <td>3.60</td>\n",
       "      <td>1.36</td>\n",
       "      <td>72.73</td>\n",
       "      <td>0.48</td>\n",
       "      <td>7.83</td>\n",
       "      <td>0.0</td>\n",
       "      <td>0.00</td>\n",
       "      <td>1</td>\n",
       "    </tr>\n",
       "    <tr>\n",
       "      <th>1</th>\n",
       "      <td>1.51618</td>\n",
       "      <td>13.53</td>\n",
       "      <td>3.55</td>\n",
       "      <td>1.54</td>\n",
       "      <td>72.99</td>\n",
       "      <td>0.39</td>\n",
       "      <td>7.78</td>\n",
       "      <td>0.0</td>\n",
       "      <td>0.00</td>\n",
       "      <td>1</td>\n",
       "    </tr>\n",
       "    <tr>\n",
       "      <th>2</th>\n",
       "      <td>1.51766</td>\n",
       "      <td>13.21</td>\n",
       "      <td>3.69</td>\n",
       "      <td>1.29</td>\n",
       "      <td>72.61</td>\n",
       "      <td>0.57</td>\n",
       "      <td>8.22</td>\n",
       "      <td>0.0</td>\n",
       "      <td>0.00</td>\n",
       "      <td>1</td>\n",
       "    </tr>\n",
       "    <tr>\n",
       "      <th>3</th>\n",
       "      <td>1.51742</td>\n",
       "      <td>13.27</td>\n",
       "      <td>3.62</td>\n",
       "      <td>1.24</td>\n",
       "      <td>73.08</td>\n",
       "      <td>0.55</td>\n",
       "      <td>8.07</td>\n",
       "      <td>0.0</td>\n",
       "      <td>0.00</td>\n",
       "      <td>1</td>\n",
       "    </tr>\n",
       "    <tr>\n",
       "      <th>4</th>\n",
       "      <td>1.51596</td>\n",
       "      <td>12.79</td>\n",
       "      <td>3.61</td>\n",
       "      <td>1.62</td>\n",
       "      <td>72.97</td>\n",
       "      <td>0.64</td>\n",
       "      <td>8.07</td>\n",
       "      <td>0.0</td>\n",
       "      <td>0.26</td>\n",
       "      <td>1</td>\n",
       "    </tr>\n",
       "    <tr>\n",
       "      <th>5</th>\n",
       "      <td>1.51743</td>\n",
       "      <td>13.30</td>\n",
       "      <td>3.60</td>\n",
       "      <td>1.14</td>\n",
       "      <td>73.09</td>\n",
       "      <td>0.58</td>\n",
       "      <td>8.17</td>\n",
       "      <td>0.0</td>\n",
       "      <td>0.00</td>\n",
       "      <td>1</td>\n",
       "    </tr>\n",
       "    <tr>\n",
       "      <th>6</th>\n",
       "      <td>1.51756</td>\n",
       "      <td>13.15</td>\n",
       "      <td>3.61</td>\n",
       "      <td>1.05</td>\n",
       "      <td>73.24</td>\n",
       "      <td>0.57</td>\n",
       "      <td>8.24</td>\n",
       "      <td>0.0</td>\n",
       "      <td>0.00</td>\n",
       "      <td>1</td>\n",
       "    </tr>\n",
       "    <tr>\n",
       "      <th>7</th>\n",
       "      <td>1.51918</td>\n",
       "      <td>14.04</td>\n",
       "      <td>3.58</td>\n",
       "      <td>1.37</td>\n",
       "      <td>72.08</td>\n",
       "      <td>0.56</td>\n",
       "      <td>8.30</td>\n",
       "      <td>0.0</td>\n",
       "      <td>0.00</td>\n",
       "      <td>1</td>\n",
       "    </tr>\n",
       "    <tr>\n",
       "      <th>8</th>\n",
       "      <td>1.51755</td>\n",
       "      <td>13.00</td>\n",
       "      <td>3.60</td>\n",
       "      <td>1.36</td>\n",
       "      <td>72.99</td>\n",
       "      <td>0.57</td>\n",
       "      <td>8.40</td>\n",
       "      <td>0.0</td>\n",
       "      <td>0.11</td>\n",
       "      <td>1</td>\n",
       "    </tr>\n",
       "    <tr>\n",
       "      <th>9</th>\n",
       "      <td>1.51571</td>\n",
       "      <td>12.72</td>\n",
       "      <td>3.46</td>\n",
       "      <td>1.56</td>\n",
       "      <td>73.20</td>\n",
       "      <td>0.67</td>\n",
       "      <td>8.09</td>\n",
       "      <td>0.0</td>\n",
       "      <td>0.24</td>\n",
       "      <td>1</td>\n",
       "    </tr>\n",
       "    <tr>\n",
       "      <th>10</th>\n",
       "      <td>1.51763</td>\n",
       "      <td>12.80</td>\n",
       "      <td>3.66</td>\n",
       "      <td>1.27</td>\n",
       "      <td>73.01</td>\n",
       "      <td>0.60</td>\n",
       "      <td>8.56</td>\n",
       "      <td>0.0</td>\n",
       "      <td>0.00</td>\n",
       "      <td>1</td>\n",
       "    </tr>\n",
       "    <tr>\n",
       "      <th>11</th>\n",
       "      <td>1.51589</td>\n",
       "      <td>12.88</td>\n",
       "      <td>3.43</td>\n",
       "      <td>1.40</td>\n",
       "      <td>73.28</td>\n",
       "      <td>0.69</td>\n",
       "      <td>8.05</td>\n",
       "      <td>0.0</td>\n",
       "      <td>0.24</td>\n",
       "      <td>1</td>\n",
       "    </tr>\n",
       "    <tr>\n",
       "      <th>12</th>\n",
       "      <td>1.51748</td>\n",
       "      <td>12.86</td>\n",
       "      <td>3.56</td>\n",
       "      <td>1.27</td>\n",
       "      <td>73.21</td>\n",
       "      <td>0.54</td>\n",
       "      <td>8.38</td>\n",
       "      <td>0.0</td>\n",
       "      <td>0.17</td>\n",
       "      <td>1</td>\n",
       "    </tr>\n",
       "    <tr>\n",
       "      <th>13</th>\n",
       "      <td>1.51763</td>\n",
       "      <td>12.61</td>\n",
       "      <td>3.59</td>\n",
       "      <td>1.31</td>\n",
       "      <td>73.29</td>\n",
       "      <td>0.58</td>\n",
       "      <td>8.50</td>\n",
       "      <td>0.0</td>\n",
       "      <td>0.00</td>\n",
       "      <td>1</td>\n",
       "    </tr>\n",
       "    <tr>\n",
       "      <th>14</th>\n",
       "      <td>1.51761</td>\n",
       "      <td>12.81</td>\n",
       "      <td>3.54</td>\n",
       "      <td>1.23</td>\n",
       "      <td>73.24</td>\n",
       "      <td>0.58</td>\n",
       "      <td>8.39</td>\n",
       "      <td>0.0</td>\n",
       "      <td>0.00</td>\n",
       "      <td>1</td>\n",
       "    </tr>\n",
       "    <tr>\n",
       "      <th>15</th>\n",
       "      <td>1.51784</td>\n",
       "      <td>12.68</td>\n",
       "      <td>3.67</td>\n",
       "      <td>1.16</td>\n",
       "      <td>73.11</td>\n",
       "      <td>0.61</td>\n",
       "      <td>8.70</td>\n",
       "      <td>0.0</td>\n",
       "      <td>0.00</td>\n",
       "      <td>1</td>\n",
       "    </tr>\n",
       "    <tr>\n",
       "      <th>16</th>\n",
       "      <td>1.52196</td>\n",
       "      <td>14.36</td>\n",
       "      <td>3.85</td>\n",
       "      <td>0.89</td>\n",
       "      <td>71.36</td>\n",
       "      <td>0.15</td>\n",
       "      <td>9.15</td>\n",
       "      <td>0.0</td>\n",
       "      <td>0.00</td>\n",
       "      <td>1</td>\n",
       "    </tr>\n",
       "    <tr>\n",
       "      <th>17</th>\n",
       "      <td>1.51911</td>\n",
       "      <td>13.90</td>\n",
       "      <td>3.73</td>\n",
       "      <td>1.18</td>\n",
       "      <td>72.12</td>\n",
       "      <td>0.06</td>\n",
       "      <td>8.89</td>\n",
       "      <td>0.0</td>\n",
       "      <td>0.00</td>\n",
       "      <td>1</td>\n",
       "    </tr>\n",
       "    <tr>\n",
       "      <th>18</th>\n",
       "      <td>1.51735</td>\n",
       "      <td>13.02</td>\n",
       "      <td>3.54</td>\n",
       "      <td>1.69</td>\n",
       "      <td>72.73</td>\n",
       "      <td>0.54</td>\n",
       "      <td>8.44</td>\n",
       "      <td>0.0</td>\n",
       "      <td>0.07</td>\n",
       "      <td>1</td>\n",
       "    </tr>\n",
       "    <tr>\n",
       "      <th>19</th>\n",
       "      <td>1.51750</td>\n",
       "      <td>12.82</td>\n",
       "      <td>3.55</td>\n",
       "      <td>1.49</td>\n",
       "      <td>72.75</td>\n",
       "      <td>0.54</td>\n",
       "      <td>8.52</td>\n",
       "      <td>0.0</td>\n",
       "      <td>0.19</td>\n",
       "      <td>1</td>\n",
       "    </tr>\n",
       "  </tbody>\n",
       "</table>\n",
       "</div>"
      ],
      "text/plain": [
       "    1.52101  13.64  4.49  1.10  71.78  0.06  8.75  0.00  0.00.1  Type\n",
       "0   1.51761  13.89  3.60  1.36  72.73  0.48  7.83   0.0    0.00     1\n",
       "1   1.51618  13.53  3.55  1.54  72.99  0.39  7.78   0.0    0.00     1\n",
       "2   1.51766  13.21  3.69  1.29  72.61  0.57  8.22   0.0    0.00     1\n",
       "3   1.51742  13.27  3.62  1.24  73.08  0.55  8.07   0.0    0.00     1\n",
       "4   1.51596  12.79  3.61  1.62  72.97  0.64  8.07   0.0    0.26     1\n",
       "5   1.51743  13.30  3.60  1.14  73.09  0.58  8.17   0.0    0.00     1\n",
       "6   1.51756  13.15  3.61  1.05  73.24  0.57  8.24   0.0    0.00     1\n",
       "7   1.51918  14.04  3.58  1.37  72.08  0.56  8.30   0.0    0.00     1\n",
       "8   1.51755  13.00  3.60  1.36  72.99  0.57  8.40   0.0    0.11     1\n",
       "9   1.51571  12.72  3.46  1.56  73.20  0.67  8.09   0.0    0.24     1\n",
       "10  1.51763  12.80  3.66  1.27  73.01  0.60  8.56   0.0    0.00     1\n",
       "11  1.51589  12.88  3.43  1.40  73.28  0.69  8.05   0.0    0.24     1\n",
       "12  1.51748  12.86  3.56  1.27  73.21  0.54  8.38   0.0    0.17     1\n",
       "13  1.51763  12.61  3.59  1.31  73.29  0.58  8.50   0.0    0.00     1\n",
       "14  1.51761  12.81  3.54  1.23  73.24  0.58  8.39   0.0    0.00     1\n",
       "15  1.51784  12.68  3.67  1.16  73.11  0.61  8.70   0.0    0.00     1\n",
       "16  1.52196  14.36  3.85  0.89  71.36  0.15  9.15   0.0    0.00     1\n",
       "17  1.51911  13.90  3.73  1.18  72.12  0.06  8.89   0.0    0.00     1\n",
       "18  1.51735  13.02  3.54  1.69  72.73  0.54  8.44   0.0    0.07     1\n",
       "19  1.51750  12.82  3.55  1.49  72.75  0.54  8.52   0.0    0.19     1"
      ]
     },
     "execution_count": 59,
     "metadata": {},
     "output_type": "execute_result"
    }
   ],
   "source": [
    "df.head(20)"
   ]
  },
  {
   "cell_type": "code",
   "execution_count": 4,
   "id": "5cb18158",
   "metadata": {},
   "outputs": [],
   "source": [
    "df.tail(10)\n",
    "#dropping the first column as itis just the serial no\n",
    "df.drop(columns=['1'],inplace=True)\n",
    "#"
   ]
  },
  {
   "cell_type": "code",
   "execution_count": 5,
   "id": "158d86b5",
   "metadata": {},
   "outputs": [
    {
     "data": {
      "text/plain": [
       "1.52101    float64\n",
       "13.64      float64\n",
       "4.49       float64\n",
       "1.10       float64\n",
       "71.78      float64\n",
       "0.06       float64\n",
       "8.75       float64\n",
       "0.00       float64\n",
       "0.00.1     float64\n",
       "1.1          int64\n",
       "dtype: object"
      ]
     },
     "execution_count": 5,
     "metadata": {},
     "output_type": "execute_result"
    }
   ],
   "source": [
    "df.dtypes\n",
    "#there are 2 columns of int values "
   ]
  },
  {
   "cell_type": "code",
   "execution_count": 6,
   "id": "9b7bd46e",
   "metadata": {},
   "outputs": [
    {
     "data": {
      "text/plain": [
       "0"
      ]
     },
     "execution_count": 6,
     "metadata": {},
     "output_type": "execute_result"
    }
   ],
   "source": [
    "df.isnull().sum().sum()\n",
    "#checking the null values in the data set"
   ]
  },
  {
   "cell_type": "code",
   "execution_count": 7,
   "id": "e55f3c7a",
   "metadata": {},
   "outputs": [
    {
     "data": {
      "text/html": [
       "<div>\n",
       "<style scoped>\n",
       "    .dataframe tbody tr th:only-of-type {\n",
       "        vertical-align: middle;\n",
       "    }\n",
       "\n",
       "    .dataframe tbody tr th {\n",
       "        vertical-align: top;\n",
       "    }\n",
       "\n",
       "    .dataframe thead th {\n",
       "        text-align: right;\n",
       "    }\n",
       "</style>\n",
       "<table border=\"1\" class=\"dataframe\">\n",
       "  <thead>\n",
       "    <tr style=\"text-align: right;\">\n",
       "      <th></th>\n",
       "      <th>1.52101</th>\n",
       "      <th>13.64</th>\n",
       "      <th>4.49</th>\n",
       "      <th>1.10</th>\n",
       "      <th>71.78</th>\n",
       "      <th>0.06</th>\n",
       "      <th>8.75</th>\n",
       "      <th>0.00</th>\n",
       "      <th>0.00.1</th>\n",
       "      <th>1.1</th>\n",
       "    </tr>\n",
       "  </thead>\n",
       "  <tbody>\n",
       "    <tr>\n",
       "      <th>count</th>\n",
       "      <td>213.000000</td>\n",
       "      <td>213.000000</td>\n",
       "      <td>213.000000</td>\n",
       "      <td>213.000000</td>\n",
       "      <td>213.000000</td>\n",
       "      <td>213.000000</td>\n",
       "      <td>213.000000</td>\n",
       "      <td>213.000000</td>\n",
       "      <td>213.000000</td>\n",
       "      <td>213.000000</td>\n",
       "    </tr>\n",
       "    <tr>\n",
       "      <th>mean</th>\n",
       "      <td>1.518353</td>\n",
       "      <td>13.406761</td>\n",
       "      <td>2.676056</td>\n",
       "      <td>1.446526</td>\n",
       "      <td>72.655023</td>\n",
       "      <td>0.499108</td>\n",
       "      <td>8.957934</td>\n",
       "      <td>0.175869</td>\n",
       "      <td>0.057277</td>\n",
       "      <td>2.788732</td>\n",
       "    </tr>\n",
       "    <tr>\n",
       "      <th>std</th>\n",
       "      <td>0.003039</td>\n",
       "      <td>0.818371</td>\n",
       "      <td>1.440453</td>\n",
       "      <td>0.499882</td>\n",
       "      <td>0.774052</td>\n",
       "      <td>0.653035</td>\n",
       "      <td>1.426435</td>\n",
       "      <td>0.498245</td>\n",
       "      <td>0.097589</td>\n",
       "      <td>2.105130</td>\n",
       "    </tr>\n",
       "    <tr>\n",
       "      <th>min</th>\n",
       "      <td>1.511150</td>\n",
       "      <td>10.730000</td>\n",
       "      <td>0.000000</td>\n",
       "      <td>0.290000</td>\n",
       "      <td>69.810000</td>\n",
       "      <td>0.000000</td>\n",
       "      <td>5.430000</td>\n",
       "      <td>0.000000</td>\n",
       "      <td>0.000000</td>\n",
       "      <td>1.000000</td>\n",
       "    </tr>\n",
       "    <tr>\n",
       "      <th>25%</th>\n",
       "      <td>1.516520</td>\n",
       "      <td>12.900000</td>\n",
       "      <td>2.090000</td>\n",
       "      <td>1.190000</td>\n",
       "      <td>72.280000</td>\n",
       "      <td>0.130000</td>\n",
       "      <td>8.240000</td>\n",
       "      <td>0.000000</td>\n",
       "      <td>0.000000</td>\n",
       "      <td>1.000000</td>\n",
       "    </tr>\n",
       "    <tr>\n",
       "      <th>50%</th>\n",
       "      <td>1.517680</td>\n",
       "      <td>13.300000</td>\n",
       "      <td>3.480000</td>\n",
       "      <td>1.360000</td>\n",
       "      <td>72.790000</td>\n",
       "      <td>0.560000</td>\n",
       "      <td>8.600000</td>\n",
       "      <td>0.000000</td>\n",
       "      <td>0.000000</td>\n",
       "      <td>2.000000</td>\n",
       "    </tr>\n",
       "    <tr>\n",
       "      <th>75%</th>\n",
       "      <td>1.519150</td>\n",
       "      <td>13.830000</td>\n",
       "      <td>3.600000</td>\n",
       "      <td>1.630000</td>\n",
       "      <td>73.090000</td>\n",
       "      <td>0.610000</td>\n",
       "      <td>9.180000</td>\n",
       "      <td>0.000000</td>\n",
       "      <td>0.100000</td>\n",
       "      <td>3.000000</td>\n",
       "    </tr>\n",
       "    <tr>\n",
       "      <th>max</th>\n",
       "      <td>1.533930</td>\n",
       "      <td>17.380000</td>\n",
       "      <td>3.980000</td>\n",
       "      <td>3.500000</td>\n",
       "      <td>75.410000</td>\n",
       "      <td>6.210000</td>\n",
       "      <td>16.190000</td>\n",
       "      <td>3.150000</td>\n",
       "      <td>0.510000</td>\n",
       "      <td>7.000000</td>\n",
       "    </tr>\n",
       "  </tbody>\n",
       "</table>\n",
       "</div>"
      ],
      "text/plain": [
       "          1.52101       13.64        4.49        1.10       71.78        0.06  \\\n",
       "count  213.000000  213.000000  213.000000  213.000000  213.000000  213.000000   \n",
       "mean     1.518353   13.406761    2.676056    1.446526   72.655023    0.499108   \n",
       "std      0.003039    0.818371    1.440453    0.499882    0.774052    0.653035   \n",
       "min      1.511150   10.730000    0.000000    0.290000   69.810000    0.000000   \n",
       "25%      1.516520   12.900000    2.090000    1.190000   72.280000    0.130000   \n",
       "50%      1.517680   13.300000    3.480000    1.360000   72.790000    0.560000   \n",
       "75%      1.519150   13.830000    3.600000    1.630000   73.090000    0.610000   \n",
       "max      1.533930   17.380000    3.980000    3.500000   75.410000    6.210000   \n",
       "\n",
       "             8.75        0.00      0.00.1         1.1  \n",
       "count  213.000000  213.000000  213.000000  213.000000  \n",
       "mean     8.957934    0.175869    0.057277    2.788732  \n",
       "std      1.426435    0.498245    0.097589    2.105130  \n",
       "min      5.430000    0.000000    0.000000    1.000000  \n",
       "25%      8.240000    0.000000    0.000000    1.000000  \n",
       "50%      8.600000    0.000000    0.000000    2.000000  \n",
       "75%      9.180000    0.000000    0.100000    3.000000  \n",
       "max     16.190000    3.150000    0.510000    7.000000  "
      ]
     },
     "execution_count": 7,
     "metadata": {},
     "output_type": "execute_result"
    }
   ],
   "source": [
    "#describing the dataset\n",
    "#the data is in different scale, so we need to scale the data\n",
    "df.describe()"
   ]
  },
  {
   "cell_type": "code",
   "execution_count": 8,
   "id": "67923f48",
   "metadata": {},
   "outputs": [],
   "source": [
    "#renmaing the output column and saving it\n",
    "df.rename(columns={'1.1':'Type'},inplace=True)"
   ]
  },
  {
   "cell_type": "code",
   "execution_count": 9,
   "id": "584be35d",
   "metadata": {},
   "outputs": [
    {
     "data": {
      "text/plain": [
       "2    76\n",
       "1    69\n",
       "7    29\n",
       "3    17\n",
       "5    13\n",
       "6     9\n",
       "Name: Type, dtype: int64"
      ]
     },
     "execution_count": 9,
     "metadata": {},
     "output_type": "execute_result"
    }
   ],
   "source": [
    "df['Type'].value_counts()\n",
    "#this shows that our output column is unbalanced \n",
    "#from imblearn.over_sampling import SMOTE\n",
    "#sm = SMOTE(random_state = 2)\n",
    "#X_train_res, y_train_res = sm.fit_sample(X_train, y_train.ravel())\n",
    "  "
   ]
  },
  {
   "cell_type": "code",
   "execution_count": 10,
   "id": "3f4eb206",
   "metadata": {},
   "outputs": [
    {
     "data": {
      "text/plain": [
       "1.52101    1.639658\n",
       "13.64      0.457318\n",
       "4.49      -1.154323\n",
       "1.10       0.900017\n",
       "71.78     -0.744546\n",
       "0.06       6.549276\n",
       "8.75       2.040591\n",
       "0.00       3.406749\n",
       "0.00.1     1.747173\n",
       "Type       1.108861\n",
       "dtype: float64"
      ]
     },
     "execution_count": 10,
     "metadata": {},
     "output_type": "execute_result"
    }
   ],
   "source": [
    "#  Dta visualization\n",
    "df.skew()"
   ]
  },
  {
   "cell_type": "code",
   "execution_count": 11,
   "id": "b3452206",
   "metadata": {},
   "outputs": [
    {
     "name": "stderr",
     "output_type": "stream",
     "text": [
      "/opt/anaconda3/lib/python3.9/site-packages/seaborn/distributions.py:2619: FutureWarning: `distplot` is a deprecated function and will be removed in a future version. Please adapt your code to use either `displot` (a figure-level function with similar flexibility) or `histplot` (an axes-level function for histograms).\n",
      "  warnings.warn(msg, FutureWarning)\n",
      "/opt/anaconda3/lib/python3.9/site-packages/seaborn/distributions.py:2619: FutureWarning: `distplot` is a deprecated function and will be removed in a future version. Please adapt your code to use either `displot` (a figure-level function with similar flexibility) or `histplot` (an axes-level function for histograms).\n",
      "  warnings.warn(msg, FutureWarning)\n",
      "/opt/anaconda3/lib/python3.9/site-packages/seaborn/distributions.py:2619: FutureWarning: `distplot` is a deprecated function and will be removed in a future version. Please adapt your code to use either `displot` (a figure-level function with similar flexibility) or `histplot` (an axes-level function for histograms).\n",
      "  warnings.warn(msg, FutureWarning)\n",
      "/opt/anaconda3/lib/python3.9/site-packages/seaborn/distributions.py:2619: FutureWarning: `distplot` is a deprecated function and will be removed in a future version. Please adapt your code to use either `displot` (a figure-level function with similar flexibility) or `histplot` (an axes-level function for histograms).\n",
      "  warnings.warn(msg, FutureWarning)\n",
      "/opt/anaconda3/lib/python3.9/site-packages/seaborn/distributions.py:2619: FutureWarning: `distplot` is a deprecated function and will be removed in a future version. Please adapt your code to use either `displot` (a figure-level function with similar flexibility) or `histplot` (an axes-level function for histograms).\n",
      "  warnings.warn(msg, FutureWarning)\n",
      "/opt/anaconda3/lib/python3.9/site-packages/seaborn/distributions.py:2619: FutureWarning: `distplot` is a deprecated function and will be removed in a future version. Please adapt your code to use either `displot` (a figure-level function with similar flexibility) or `histplot` (an axes-level function for histograms).\n",
      "  warnings.warn(msg, FutureWarning)\n",
      "/opt/anaconda3/lib/python3.9/site-packages/seaborn/distributions.py:2619: FutureWarning: `distplot` is a deprecated function and will be removed in a future version. Please adapt your code to use either `displot` (a figure-level function with similar flexibility) or `histplot` (an axes-level function for histograms).\n",
      "  warnings.warn(msg, FutureWarning)\n",
      "/opt/anaconda3/lib/python3.9/site-packages/seaborn/distributions.py:2619: FutureWarning: `distplot` is a deprecated function and will be removed in a future version. Please adapt your code to use either `displot` (a figure-level function with similar flexibility) or `histplot` (an axes-level function for histograms).\n",
      "  warnings.warn(msg, FutureWarning)\n"
     ]
    },
    {
     "ename": "ValueError",
     "evalue": "num must be 1 <= num <= 8, not 9",
     "output_type": "error",
     "traceback": [
      "\u001b[0;31m---------------------------------------------------------------------------\u001b[0m",
      "\u001b[0;31mValueError\u001b[0m                                Traceback (most recent call last)",
      "Input \u001b[0;32mIn [11]\u001b[0m, in \u001b[0;36m<cell line: 4>\u001b[0;34m()\u001b[0m\n\u001b[1;32m      4\u001b[0m \u001b[38;5;28;01mfor\u001b[39;00m i \u001b[38;5;129;01min\u001b[39;00m df:\n\u001b[1;32m      5\u001b[0m     \u001b[38;5;28;01mif\u001b[39;00m plotno\u001b[38;5;241m<\u001b[39m\u001b[38;5;241m=\u001b[39m \u001b[38;5;241m10\u001b[39m:\n\u001b[0;32m----> 7\u001b[0m         \u001b[43mplt\u001b[49m\u001b[38;5;241;43m.\u001b[39;49m\u001b[43msubplot\u001b[49m\u001b[43m(\u001b[49m\u001b[38;5;241;43m2\u001b[39;49m\u001b[43m,\u001b[49m\u001b[38;5;241;43m4\u001b[39;49m\u001b[43m,\u001b[49m\u001b[43mplotno\u001b[49m\u001b[43m)\u001b[49m\n\u001b[1;32m      8\u001b[0m         sns\u001b[38;5;241m.\u001b[39mdistplot(df[i])\n\u001b[1;32m      9\u001b[0m         plt\u001b[38;5;241m.\u001b[39mxlabel(i,fontsize\u001b[38;5;241m=\u001b[39m\u001b[38;5;241m10\u001b[39m)\n",
      "File \u001b[0;32m/opt/anaconda3/lib/python3.9/site-packages/matplotlib/pyplot.py:1268\u001b[0m, in \u001b[0;36msubplot\u001b[0;34m(*args, **kwargs)\u001b[0m\n\u001b[1;32m   1265\u001b[0m fig \u001b[38;5;241m=\u001b[39m gcf()\n\u001b[1;32m   1267\u001b[0m \u001b[38;5;66;03m# First, search for an existing subplot with a matching spec.\u001b[39;00m\n\u001b[0;32m-> 1268\u001b[0m key \u001b[38;5;241m=\u001b[39m \u001b[43mSubplotSpec\u001b[49m\u001b[38;5;241;43m.\u001b[39;49m\u001b[43m_from_subplot_args\u001b[49m\u001b[43m(\u001b[49m\u001b[43mfig\u001b[49m\u001b[43m,\u001b[49m\u001b[43m \u001b[49m\u001b[43margs\u001b[49m\u001b[43m)\u001b[49m\n\u001b[1;32m   1270\u001b[0m \u001b[38;5;28;01mfor\u001b[39;00m ax \u001b[38;5;129;01min\u001b[39;00m fig\u001b[38;5;241m.\u001b[39maxes:\n\u001b[1;32m   1271\u001b[0m     \u001b[38;5;66;03m# if we found an axes at the position sort out if we can re-use it\u001b[39;00m\n\u001b[1;32m   1272\u001b[0m     \u001b[38;5;28;01mif\u001b[39;00m \u001b[38;5;28mhasattr\u001b[39m(ax, \u001b[38;5;124m'\u001b[39m\u001b[38;5;124mget_subplotspec\u001b[39m\u001b[38;5;124m'\u001b[39m) \u001b[38;5;129;01mand\u001b[39;00m ax\u001b[38;5;241m.\u001b[39mget_subplotspec() \u001b[38;5;241m==\u001b[39m key:\n\u001b[1;32m   1273\u001b[0m         \u001b[38;5;66;03m# if the user passed no kwargs, re-use\u001b[39;00m\n",
      "File \u001b[0;32m/opt/anaconda3/lib/python3.9/site-packages/matplotlib/gridspec.py:608\u001b[0m, in \u001b[0;36mSubplotSpec._from_subplot_args\u001b[0;34m(figure, args)\u001b[0m\n\u001b[1;32m    606\u001b[0m \u001b[38;5;28;01melse\u001b[39;00m:\n\u001b[1;32m    607\u001b[0m     \u001b[38;5;28;01mif\u001b[39;00m \u001b[38;5;129;01mnot\u001b[39;00m \u001b[38;5;28misinstance\u001b[39m(num, Integral) \u001b[38;5;129;01mor\u001b[39;00m num \u001b[38;5;241m<\u001b[39m \u001b[38;5;241m1\u001b[39m \u001b[38;5;129;01mor\u001b[39;00m num \u001b[38;5;241m>\u001b[39m rows\u001b[38;5;241m*\u001b[39mcols:\n\u001b[0;32m--> 608\u001b[0m         \u001b[38;5;28;01mraise\u001b[39;00m \u001b[38;5;167;01mValueError\u001b[39;00m(\n\u001b[1;32m    609\u001b[0m             \u001b[38;5;124mf\u001b[39m\u001b[38;5;124m\"\u001b[39m\u001b[38;5;124mnum must be 1 <= num <= \u001b[39m\u001b[38;5;132;01m{\u001b[39;00mrows\u001b[38;5;241m*\u001b[39mcols\u001b[38;5;132;01m}\u001b[39;00m\u001b[38;5;124m, not \u001b[39m\u001b[38;5;132;01m{\u001b[39;00mnum\u001b[38;5;132;01m!r}\u001b[39;00m\u001b[38;5;124m\"\u001b[39m)\n\u001b[1;32m    610\u001b[0m     i \u001b[38;5;241m=\u001b[39m j \u001b[38;5;241m=\u001b[39m num\n\u001b[1;32m    611\u001b[0m \u001b[38;5;28;01mreturn\u001b[39;00m gs[i\u001b[38;5;241m-\u001b[39m\u001b[38;5;241m1\u001b[39m:j]\n",
      "\u001b[0;31mValueError\u001b[0m: num must be 1 <= num <= 8, not 9"
     ]
    },
    {
     "data": {
      "image/png": "[encoded data removed]",
      "text/plain": [
       "<Figure size 1440x1800 with 8 Axes>"
      ]
     },
     "metadata": {
      "needs_background": "light"
     },
     "output_type": "display_data"
    }
   ],
   "source": [
    "#plotting the distplot for all the column values\n",
    "plt.figure(figsize=(20,25))\n",
    "plotno=1\n",
    "for i in df:\n",
    "    if plotno<= 10:\n",
    "        \n",
    "        plt.subplot(2,4,plotno)\n",
    "        sns.distplot(df[i])\n",
    "        plt.xlabel(i,fontsize=10)\n",
    "        plotno+=1\n",
    "    \n",
    "    \n",
    "pt.show()\n",
    "                "
   ]
  },
  {
   "cell_type": "code",
   "execution_count": 12,
   "id": "2736e255",
   "metadata": {},
   "outputs": [
    {
     "data": {
      "text/plain": [
       "4.49      -1.154323\n",
       "71.78     -0.744546\n",
       "13.64      0.457318\n",
       "1.10       0.900017\n",
       "Type       1.108861\n",
       "1.52101    1.639658\n",
       "0.00.1     1.747173\n",
       "8.75       2.040591\n",
       "0.00       3.406749\n",
       "0.06       6.549276\n",
       "dtype: float64"
      ]
     },
     "execution_count": 12,
     "metadata": {},
     "output_type": "execute_result"
    }
   ],
   "source": [
    "df.skew().sort_values(ascending=True)"
   ]
  },
  {
   "cell_type": "code",
   "execution_count": 13,
   "id": "beda9314",
   "metadata": {},
   "outputs": [
    {
     "data": {
      "text/plain": [
       "array([<AxesSubplot:ylabel='Density'>, <AxesSubplot:ylabel='Density'>,\n",
       "       <AxesSubplot:ylabel='Density'>, <AxesSubplot:ylabel='Density'>,\n",
       "       <AxesSubplot:ylabel='Density'>, <AxesSubplot:ylabel='Density'>,\n",
       "       <AxesSubplot:ylabel='Density'>, <AxesSubplot:ylabel='Density'>,\n",
       "       <AxesSubplot:ylabel='Density'>, <AxesSubplot:ylabel='Density'>],\n",
       "      dtype=object)"
      ]
     },
     "execution_count": 13,
     "metadata": {},
     "output_type": "execute_result"
    },
    {
     "data": {
      "image/png": "[encoded data removed]",
      "text/plain": [
       "<Figure size 360x1080 with 10 Axes>"
      ]
     },
     "metadata": {
      "needs_background": "light"
     },
     "output_type": "display_data"
    }
   ],
   "source": [
    "df.plot(kind='density',subplots=True,figsize=[5,15])"
   ]
  },
  {
   "cell_type": "code",
   "execution_count": 14,
   "id": "1abf2b4d",
   "metadata": {},
   "outputs": [],
   "source": [
    "#hence we inferred that thedata has skweness ,so we try to reduce it with POwer transforamation\n",
    "#first we divide the data set in X AND YSETS\n",
    "X=df.drop(columns =['Type'],axis=1)\n",
    "Y=df['Type']"
   ]
  },
  {
   "cell_type": "code",
   "execution_count": 15,
   "id": "c68db734",
   "metadata": {},
   "outputs": [],
   "source": [
    "from sklearn.preprocessing import PowerTransformer\n",
    "pw=PowerTransformer()\n",
    "X_new= pw.fit_transform(X)\n"
   ]
  },
  {
   "cell_type": "code",
   "execution_count": 16,
   "id": "47595cd0",
   "metadata": {},
   "outputs": [
    {
     "data": {
      "text/html": [
       "<div>\n",
       "<style scoped>\n",
       "    .dataframe tbody tr th:only-of-type {\n",
       "        vertical-align: middle;\n",
       "    }\n",
       "\n",
       "    .dataframe tbody tr th {\n",
       "        vertical-align: top;\n",
       "    }\n",
       "\n",
       "    .dataframe thead th {\n",
       "        text-align: right;\n",
       "    }\n",
       "</style>\n",
       "<table border=\"1\" class=\"dataframe\">\n",
       "  <thead>\n",
       "    <tr style=\"text-align: right;\">\n",
       "      <th></th>\n",
       "      <th>1.52101</th>\n",
       "      <th>13.64</th>\n",
       "      <th>4.49</th>\n",
       "      <th>1.10</th>\n",
       "      <th>71.78</th>\n",
       "      <th>0.06</th>\n",
       "      <th>8.75</th>\n",
       "      <th>0.00</th>\n",
       "      <th>0.00.1</th>\n",
       "    </tr>\n",
       "  </thead>\n",
       "  <tbody>\n",
       "    <tr>\n",
       "      <th>0</th>\n",
       "      <td>False</td>\n",
       "      <td>False</td>\n",
       "      <td>False</td>\n",
       "      <td>False</td>\n",
       "      <td>False</td>\n",
       "      <td>False</td>\n",
       "      <td>False</td>\n",
       "      <td>False</td>\n",
       "      <td>False</td>\n",
       "    </tr>\n",
       "    <tr>\n",
       "      <th>1</th>\n",
       "      <td>False</td>\n",
       "      <td>False</td>\n",
       "      <td>False</td>\n",
       "      <td>False</td>\n",
       "      <td>False</td>\n",
       "      <td>False</td>\n",
       "      <td>False</td>\n",
       "      <td>False</td>\n",
       "      <td>False</td>\n",
       "    </tr>\n",
       "    <tr>\n",
       "      <th>2</th>\n",
       "      <td>False</td>\n",
       "      <td>False</td>\n",
       "      <td>False</td>\n",
       "      <td>False</td>\n",
       "      <td>False</td>\n",
       "      <td>False</td>\n",
       "      <td>False</td>\n",
       "      <td>False</td>\n",
       "      <td>False</td>\n",
       "    </tr>\n",
       "    <tr>\n",
       "      <th>3</th>\n",
       "      <td>False</td>\n",
       "      <td>False</td>\n",
       "      <td>False</td>\n",
       "      <td>False</td>\n",
       "      <td>False</td>\n",
       "      <td>False</td>\n",
       "      <td>False</td>\n",
       "      <td>False</td>\n",
       "      <td>False</td>\n",
       "    </tr>\n",
       "    <tr>\n",
       "      <th>4</th>\n",
       "      <td>False</td>\n",
       "      <td>False</td>\n",
       "      <td>False</td>\n",
       "      <td>False</td>\n",
       "      <td>False</td>\n",
       "      <td>False</td>\n",
       "      <td>False</td>\n",
       "      <td>False</td>\n",
       "      <td>False</td>\n",
       "    </tr>\n",
       "    <tr>\n",
       "      <th>...</th>\n",
       "      <td>...</td>\n",
       "      <td>...</td>\n",
       "      <td>...</td>\n",
       "      <td>...</td>\n",
       "      <td>...</td>\n",
       "      <td>...</td>\n",
       "      <td>...</td>\n",
       "      <td>...</td>\n",
       "      <td>...</td>\n",
       "    </tr>\n",
       "    <tr>\n",
       "      <th>208</th>\n",
       "      <td>False</td>\n",
       "      <td>False</td>\n",
       "      <td>False</td>\n",
       "      <td>False</td>\n",
       "      <td>False</td>\n",
       "      <td>False</td>\n",
       "      <td>False</td>\n",
       "      <td>False</td>\n",
       "      <td>False</td>\n",
       "    </tr>\n",
       "    <tr>\n",
       "      <th>209</th>\n",
       "      <td>False</td>\n",
       "      <td>False</td>\n",
       "      <td>False</td>\n",
       "      <td>False</td>\n",
       "      <td>False</td>\n",
       "      <td>False</td>\n",
       "      <td>False</td>\n",
       "      <td>False</td>\n",
       "      <td>False</td>\n",
       "    </tr>\n",
       "    <tr>\n",
       "      <th>210</th>\n",
       "      <td>False</td>\n",
       "      <td>False</td>\n",
       "      <td>False</td>\n",
       "      <td>False</td>\n",
       "      <td>False</td>\n",
       "      <td>False</td>\n",
       "      <td>False</td>\n",
       "      <td>False</td>\n",
       "      <td>False</td>\n",
       "    </tr>\n",
       "    <tr>\n",
       "      <th>211</th>\n",
       "      <td>False</td>\n",
       "      <td>False</td>\n",
       "      <td>False</td>\n",
       "      <td>False</td>\n",
       "      <td>False</td>\n",
       "      <td>False</td>\n",
       "      <td>False</td>\n",
       "      <td>False</td>\n",
       "      <td>False</td>\n",
       "    </tr>\n",
       "    <tr>\n",
       "      <th>212</th>\n",
       "      <td>False</td>\n",
       "      <td>False</td>\n",
       "      <td>False</td>\n",
       "      <td>False</td>\n",
       "      <td>False</td>\n",
       "      <td>False</td>\n",
       "      <td>False</td>\n",
       "      <td>False</td>\n",
       "      <td>False</td>\n",
       "    </tr>\n",
       "  </tbody>\n",
       "</table>\n",
       "<p>213 rows × 9 columns</p>\n",
       "</div>"
      ],
      "text/plain": [
       "     1.52101  13.64   4.49   1.10  71.78   0.06   8.75   0.00  0.00.1\n",
       "0      False  False  False  False  False  False  False  False   False\n",
       "1      False  False  False  False  False  False  False  False   False\n",
       "2      False  False  False  False  False  False  False  False   False\n",
       "3      False  False  False  False  False  False  False  False   False\n",
       "4      False  False  False  False  False  False  False  False   False\n",
       "..       ...    ...    ...    ...    ...    ...    ...    ...     ...\n",
       "208    False  False  False  False  False  False  False  False   False\n",
       "209    False  False  False  False  False  False  False  False   False\n",
       "210    False  False  False  False  False  False  False  False   False\n",
       "211    False  False  False  False  False  False  False  False   False\n",
       "212    False  False  False  False  False  False  False  False   False\n",
       "\n",
       "[213 rows x 9 columns]"
      ]
     },
     "execution_count": 16,
     "metadata": {},
     "output_type": "execute_result"
    }
   ],
   "source": [
    "X_new==X"
   ]
  },
  {
   "cell_type": "markdown",
   "id": "8b280a95",
   "metadata": {},
   "source": []
  },
  {
   "cell_type": "code",
   "execution_count": 17,
   "id": "6894b6c9",
   "metadata": {},
   "outputs": [
    {
     "data": {
      "text/plain": [
       "Index(['1.52101', '13.64', '4.49', '1.10', '71.78', '0.06', '8.75', '0.00',\n",
       "       '0.00.1'],\n",
       "      dtype='object')"
      ]
     },
     "execution_count": 17,
     "metadata": {},
     "output_type": "execute_result"
    }
   ],
   "source": [
    "X.columns"
   ]
  },
  {
   "cell_type": "code",
   "execution_count": 18,
   "id": "bd1852fb",
   "metadata": {},
   "outputs": [],
   "source": [
    "#converting numpy into dtaframe\n",
    "#checking the skweness \n",
    "#skewness has reduced\n",
    "X_neww=pd.DataFrame(X_new,columns= X.columns)"
   ]
  },
  {
   "cell_type": "code",
   "execution_count": 19,
   "id": "6f017389",
   "metadata": {},
   "outputs": [
    {
     "data": {
      "text/plain": [
       "pandas.core.frame.DataFrame"
      ]
     },
     "execution_count": 19,
     "metadata": {},
     "output_type": "execute_result"
    }
   ],
   "source": [
    "type(X_neww)"
   ]
  },
  {
   "cell_type": "code",
   "execution_count": 20,
   "id": "95a17aee",
   "metadata": {},
   "outputs": [
    {
     "name": "stderr",
     "output_type": "stream",
     "text": [
      "/opt/anaconda3/lib/python3.9/site-packages/seaborn/_decorators.py:36: FutureWarning: Pass the following variable as a keyword arg: x. From version 0.12, the only valid positional argument will be `data`, and passing other arguments without an explicit keyword will result in an error or misinterpretation.\n",
      "  warnings.warn(\n",
      "/opt/anaconda3/lib/python3.9/site-packages/seaborn/_decorators.py:36: FutureWarning: Pass the following variable as a keyword arg: x. From version 0.12, the only valid positional argument will be `data`, and passing other arguments without an explicit keyword will result in an error or misinterpretation.\n",
      "  warnings.warn(\n",
      "/opt/anaconda3/lib/python3.9/site-packages/seaborn/_decorators.py:36: FutureWarning: Pass the following variable as a keyword arg: x. From version 0.12, the only valid positional argument will be `data`, and passing other arguments without an explicit keyword will result in an error or misinterpretation.\n",
      "  warnings.warn(\n",
      "/opt/anaconda3/lib/python3.9/site-packages/seaborn/_decorators.py:36: FutureWarning: Pass the following variable as a keyword arg: x. From version 0.12, the only valid positional argument will be `data`, and passing other arguments without an explicit keyword will result in an error or misinterpretation.\n",
      "  warnings.warn(\n",
      "/opt/anaconda3/lib/python3.9/site-packages/seaborn/_decorators.py:36: FutureWarning: Pass the following variable as a keyword arg: x. From version 0.12, the only valid positional argument will be `data`, and passing other arguments without an explicit keyword will result in an error or misinterpretation.\n",
      "  warnings.warn(\n",
      "/opt/anaconda3/lib/python3.9/site-packages/seaborn/_decorators.py:36: FutureWarning: Pass the following variable as a keyword arg: x. From version 0.12, the only valid positional argument will be `data`, and passing other arguments without an explicit keyword will result in an error or misinterpretation.\n",
      "  warnings.warn(\n",
      "/opt/anaconda3/lib/python3.9/site-packages/seaborn/_decorators.py:36: FutureWarning: Pass the following variable as a keyword arg: x. From version 0.12, the only valid positional argument will be `data`, and passing other arguments without an explicit keyword will result in an error or misinterpretation.\n",
      "  warnings.warn(\n",
      "/opt/anaconda3/lib/python3.9/site-packages/seaborn/_decorators.py:36: FutureWarning: Pass the following variable as a keyword arg: x. From version 0.12, the only valid positional argument will be `data`, and passing other arguments without an explicit keyword will result in an error or misinterpretation.\n",
      "  warnings.warn(\n"
     ]
    },
    {
     "ename": "ValueError",
     "evalue": "num must be 1 <= num <= 8, not 9",
     "output_type": "error",
     "traceback": [
      "\u001b[0;31m---------------------------------------------------------------------------\u001b[0m",
      "\u001b[0;31mValueError\u001b[0m                                Traceback (most recent call last)",
      "Input \u001b[0;32mIn [20]\u001b[0m, in \u001b[0;36m<cell line: 4>\u001b[0;34m()\u001b[0m\n\u001b[1;32m      4\u001b[0m \u001b[38;5;28;01mfor\u001b[39;00m i \u001b[38;5;129;01min\u001b[39;00m df:\n\u001b[1;32m      5\u001b[0m     \u001b[38;5;28;01mif\u001b[39;00m plotno\u001b[38;5;241m<\u001b[39m\u001b[38;5;241m=\u001b[39m \u001b[38;5;241m10\u001b[39m:\n\u001b[0;32m----> 7\u001b[0m         \u001b[43mplt\u001b[49m\u001b[38;5;241;43m.\u001b[39;49m\u001b[43msubplot\u001b[49m\u001b[43m(\u001b[49m\u001b[38;5;241;43m2\u001b[39;49m\u001b[43m,\u001b[49m\u001b[38;5;241;43m4\u001b[39;49m\u001b[43m,\u001b[49m\u001b[43mplotno\u001b[49m\u001b[43m)\u001b[49m\n\u001b[1;32m      8\u001b[0m         sns\u001b[38;5;241m.\u001b[39mboxplot(df[i])\n\u001b[1;32m      9\u001b[0m         plt\u001b[38;5;241m.\u001b[39mxlabel(i,fontsize\u001b[38;5;241m=\u001b[39m\u001b[38;5;241m10\u001b[39m)\n",
      "File \u001b[0;32m/opt/anaconda3/lib/python3.9/site-packages/matplotlib/pyplot.py:1268\u001b[0m, in \u001b[0;36msubplot\u001b[0;34m(*args, **kwargs)\u001b[0m\n\u001b[1;32m   1265\u001b[0m fig \u001b[38;5;241m=\u001b[39m gcf()\n\u001b[1;32m   1267\u001b[0m \u001b[38;5;66;03m# First, search for an existing subplot with a matching spec.\u001b[39;00m\n\u001b[0;32m-> 1268\u001b[0m key \u001b[38;5;241m=\u001b[39m \u001b[43mSubplotSpec\u001b[49m\u001b[38;5;241;43m.\u001b[39;49m\u001b[43m_from_subplot_args\u001b[49m\u001b[43m(\u001b[49m\u001b[43mfig\u001b[49m\u001b[43m,\u001b[49m\u001b[43m \u001b[49m\u001b[43margs\u001b[49m\u001b[43m)\u001b[49m\n\u001b[1;32m   1270\u001b[0m \u001b[38;5;28;01mfor\u001b[39;00m ax \u001b[38;5;129;01min\u001b[39;00m fig\u001b[38;5;241m.\u001b[39maxes:\n\u001b[1;32m   1271\u001b[0m     \u001b[38;5;66;03m# if we found an axes at the position sort out if we can re-use it\u001b[39;00m\n\u001b[1;32m   1272\u001b[0m     \u001b[38;5;28;01mif\u001b[39;00m \u001b[38;5;28mhasattr\u001b[39m(ax, \u001b[38;5;124m'\u001b[39m\u001b[38;5;124mget_subplotspec\u001b[39m\u001b[38;5;124m'\u001b[39m) \u001b[38;5;129;01mand\u001b[39;00m ax\u001b[38;5;241m.\u001b[39mget_subplotspec() \u001b[38;5;241m==\u001b[39m key:\n\u001b[1;32m   1273\u001b[0m         \u001b[38;5;66;03m# if the user passed no kwargs, re-use\u001b[39;00m\n",
      "File \u001b[0;32m/opt/anaconda3/lib/python3.9/site-packages/matplotlib/gridspec.py:608\u001b[0m, in \u001b[0;36mSubplotSpec._from_subplot_args\u001b[0;34m(figure, args)\u001b[0m\n\u001b[1;32m    606\u001b[0m \u001b[38;5;28;01melse\u001b[39;00m:\n\u001b[1;32m    607\u001b[0m     \u001b[38;5;28;01mif\u001b[39;00m \u001b[38;5;129;01mnot\u001b[39;00m \u001b[38;5;28misinstance\u001b[39m(num, Integral) \u001b[38;5;129;01mor\u001b[39;00m num \u001b[38;5;241m<\u001b[39m \u001b[38;5;241m1\u001b[39m \u001b[38;5;129;01mor\u001b[39;00m num \u001b[38;5;241m>\u001b[39m rows\u001b[38;5;241m*\u001b[39mcols:\n\u001b[0;32m--> 608\u001b[0m         \u001b[38;5;28;01mraise\u001b[39;00m \u001b[38;5;167;01mValueError\u001b[39;00m(\n\u001b[1;32m    609\u001b[0m             \u001b[38;5;124mf\u001b[39m\u001b[38;5;124m\"\u001b[39m\u001b[38;5;124mnum must be 1 <= num <= \u001b[39m\u001b[38;5;132;01m{\u001b[39;00mrows\u001b[38;5;241m*\u001b[39mcols\u001b[38;5;132;01m}\u001b[39;00m\u001b[38;5;124m, not \u001b[39m\u001b[38;5;132;01m{\u001b[39;00mnum\u001b[38;5;132;01m!r}\u001b[39;00m\u001b[38;5;124m\"\u001b[39m)\n\u001b[1;32m    610\u001b[0m     i \u001b[38;5;241m=\u001b[39m j \u001b[38;5;241m=\u001b[39m num\n\u001b[1;32m    611\u001b[0m \u001b[38;5;28;01mreturn\u001b[39;00m gs[i\u001b[38;5;241m-\u001b[39m\u001b[38;5;241m1\u001b[39m:j]\n",
      "\u001b[0;31mValueError\u001b[0m: num must be 1 <= num <= 8, not 9"
     ]
    },
    {
     "data": {
      "image/png": "[encoded data removed]",
      "text/plain": [
       "<Figure size 1440x1800 with 8 Axes>"
      ]
     },
     "metadata": {
      "needs_background": "light"
     },
     "output_type": "display_data"
    }
   ],
   "source": [
    "#checking for outliers \n",
    "plt.figure(figsize=(20,25))\n",
    "plotno=1\n",
    "for i in df:\n",
    "    if plotno<= 10:\n",
    "        \n",
    "        plt.subplot(2,4,plotno)\n",
    "        sns.boxplot(df[i])\n",
    "        plt.xlabel(i,fontsize=10)\n",
    "        plotno+=1\n",
    "    \n",
    "    \n",
    "pt.show()"
   ]
  },
  {
   "cell_type": "code",
   "execution_count": 21,
   "id": "ee87524e",
   "metadata": {},
   "outputs": [
    {
     "data": {
      "text/plain": [
       "1.52101    True\n",
       "13.64      True\n",
       "4.49       True\n",
       "1.10       True\n",
       "71.78      True\n",
       "0.06       True\n",
       "8.75       True\n",
       "0.00       True\n",
       "0.00.1     True\n",
       "dtype: bool"
      ]
     },
     "execution_count": 21,
     "metadata": {},
     "output_type": "execute_result"
    }
   ],
   "source": [
    "\n",
    "#checking the Zscore\n",
    "from scipy.stats import zscore\n",
    "np.abs(zscore(X_neww<3)).all()"
   ]
  },
  {
   "cell_type": "code",
   "execution_count": 22,
   "id": "0f181ae3",
   "metadata": {
    "scrolled": true
   },
   "outputs": [
    {
     "data": {
      "text/plain": [
       "1.52101    False\n",
       "13.64      False\n",
       "4.49        True\n",
       "1.10       False\n",
       "71.78      False\n",
       "0.06       False\n",
       "8.75       False\n",
       "0.00        True\n",
       "0.00.1      True\n",
       "dtype: bool"
      ]
     },
     "execution_count": 22,
     "metadata": {},
     "output_type": "execute_result"
    }
   ],
   "source": [
    "(zscore(X_neww )<3).all()"
   ]
  },
  {
   "cell_type": "code",
   "execution_count": 61,
   "id": "a9a02191",
   "metadata": {},
   "outputs": [
    {
     "ename": "NameError",
     "evalue": "name 'count' is not defined",
     "output_type": "error",
     "traceback": [
      "\u001b[0;31m---------------------------------------------------------------------------\u001b[0m",
      "\u001b[0;31mNameError\u001b[0m                                 Traceback (most recent call last)",
      "Input \u001b[0;32mIn [61]\u001b[0m, in \u001b[0;36m<cell line: 2>\u001b[0;34m()\u001b[0m\n\u001b[1;32m      1\u001b[0m \u001b[38;5;66;03m#hence zscore show\u001b[39;00m\n\u001b[0;32m----> 2\u001b[0m \u001b[43mcount\u001b[49m\u001b[38;5;241m.\u001b[39mdf(\u001b[38;5;124m'\u001b[39m\u001b[38;5;124m1.52101\u001b[39m\u001b[38;5;124m'\u001b[39m)\n",
      "\u001b[0;31mNameError\u001b[0m: name 'count' is not defined"
     ]
    }
   ],
   "source": [
    "#hence zscore show\n"
   ]
  },
  {
   "cell_type": "code",
   "execution_count": 139,
   "id": "b5fb685c",
   "metadata": {},
   "outputs": [],
   "source": [
    "#now we have to remove the outl;iers IQR\n",
    "\n",
    "per_25=df['1.52101'].quantile(0.25)\n",
    "per_75= df['1.52101'].quantile(0.75)"
   ]
  },
  {
   "cell_type": "code",
   "execution_count": 140,
   "id": "05e818ca",
   "metadata": {},
   "outputs": [],
   "source": [
    "iqr= per_75-per_25\n",
    "upper_limit = per_75 +( 1.5 * iqr)\n",
    "lower_limit = per_25 - (1.5 * iqr)"
   ]
  },
  {
   "cell_type": "code",
   "execution_count": 141,
   "id": "5edb127d",
   "metadata": {},
   "outputs": [],
   "source": [
    "new_df = df[df['1.52101'] < upper_limit] \n"
   ]
  },
  {
   "cell_type": "code",
   "execution_count": 142,
   "id": "21a0dc99",
   "metadata": {},
   "outputs": [
    {
     "data": {
      "text/plain": [
       "213"
      ]
     },
     "execution_count": 142,
     "metadata": {},
     "output_type": "execute_result"
    }
   ],
   "source": [
    "new_df = df[df['1.52101'] > lower_limit]\n",
    "len(df)"
   ]
  },
  {
   "cell_type": "code",
   "execution_count": 153,
   "id": "e2c41541",
   "metadata": {},
   "outputs": [
    {
     "name": "stderr",
     "output_type": "stream",
     "text": [
      "/var/folders/7w/vh3pm6nx355b0g53flh1j6n80000gn/T/ipykernel_27500/2984521786.py:2: SettingWithCopyWarning: \n",
      "A value is trying to be set on a copy of a slice from a DataFrame.\n",
      "Try using .loc[row_indexer,col_indexer] = value instead\n",
      "\n",
      "See the caveats in the documentation: https://pandas.pydata.org/pandas-docs/stable/user_guide/indexing.html#returning-a-view-versus-a-copy\n",
      "  new_df.loc[(new_df['1.52101']> upper_limit)]= upper_limit,inplace=True\n"
     ]
    },
    {
     "ename": "TypeError",
     "evalue": "cannot unpack non-iterable bool object",
     "output_type": "error",
     "traceback": [
      "\u001b[0;31m---------------------------------------------------------------------------\u001b[0m",
      "\u001b[0;31mTypeError\u001b[0m                                 Traceback (most recent call last)",
      "Input \u001b[0;32mIn [153]\u001b[0m, in \u001b[0;36m<cell line: 2>\u001b[0;34m()\u001b[0m\n\u001b[1;32m      1\u001b[0m \u001b[38;5;28mlen\u001b[39m (new_df)\n\u001b[0;32m----> 2\u001b[0m new_df\u001b[38;5;241m.\u001b[39mloc[(new_df[\u001b[38;5;124m'\u001b[39m\u001b[38;5;124m1.52101\u001b[39m\u001b[38;5;124m'\u001b[39m]\u001b[38;5;241m>\u001b[39m upper_limit)]\u001b[38;5;241m=\u001b[39m upper_limit,inplace\u001b[38;5;241m=\u001b[39m\u001b[38;5;28;01mTrue\u001b[39;00m\n",
      "\u001b[0;31mTypeError\u001b[0m: cannot unpack non-iterable bool object"
     ]
    }
   ],
   "source": [
    "len (new_df)\n",
    "new_df.loc[(new_df['1.52101']> upper_limit)]= upper_limit"
   ]
  },
  {
   "cell_type": "code",
   "execution_count": 144,
   "id": "8e4e9c99",
   "metadata": {},
   "outputs": [
    {
     "name": "stderr",
     "output_type": "stream",
     "text": [
      "/opt/anaconda3/lib/python3.9/site-packages/seaborn/_decorators.py:36: FutureWarning: Pass the following variable as a keyword arg: x. From version 0.12, the only valid positional argument will be `data`, and passing other arguments without an explicit keyword will result in an error or misinterpretation.\n",
      "  warnings.warn(\n"
     ]
    },
    {
     "data": {
      "text/plain": [
       "<AxesSubplot:xlabel='1.52101'>"
      ]
     },
     "execution_count": 144,
     "metadata": {},
     "output_type": "execute_result"
    },
    {
     "data": {
      "image/png": "[encoded data removed]",
      "text/plain": [
       "<Figure size 432x288 with 1 Axes>"
      ]
     },
     "metadata": {
      "needs_background": "light"
     },
     "output_type": "display_data"
    }
   ],
   "source": [
    "sns.boxplot(new_df['1.52101'])"
   ]
  },
  {
   "cell_type": "code",
   "execution_count": 148,
   "id": "63f52cdf",
   "metadata": {},
   "outputs": [
    {
     "data": {
      "text/plain": [
       "1.52101     True\n",
       "13.64       True\n",
       "4.49        True\n",
       "1.10       False\n",
       "71.78       True\n",
       "0.06       False\n",
       "8.75        True\n",
       "0.00       False\n",
       "0.00.1     False\n",
       "Type        True\n",
       "dtype: bool"
      ]
     },
     "execution_count": 148,
     "metadata": {},
     "output_type": "execute_result"
    }
   ],
   "source": [
    "(zscore(new_df)<3).all()\n"
   ]
  },
  {
   "cell_type": "code",
   "execution_count": 114,
   "id": "ee81fce8",
   "metadata": {},
   "outputs": [
    {
     "name": "stderr",
     "output_type": "stream",
     "text": [
      "/opt/anaconda3/lib/python3.9/site-packages/seaborn/_decorators.py:36: FutureWarning: Pass the following variable as a keyword arg: x. From version 0.12, the only valid positional argument will be `data`, and passing other arguments without an explicit keyword will result in an error or misinterpretation.\n",
      "  warnings.warn(\n"
     ]
    },
    {
     "data": {
      "text/plain": [
       "<AxesSubplot:xlabel='13.64'>"
      ]
     },
     "execution_count": 114,
     "metadata": {},
     "output_type": "execute_result"
    },
    {
     "data": {
      "image/png": "[encoded data removed]",
      "text/plain": [
       "<Figure size 432x288 with 1 Axes>"
      ]
     },
     "metadata": {
      "needs_background": "light"
     },
     "output_type": "display_data"
    }
   ],
   "source": [
    "per_25=df['13.64'].quantile(0.25)\n",
    "per_75= df['13.64'].quantile(0.75)\n",
    "iqr= per_75-per_25\n",
    "upper_limit = per_75 + (1.5 * iqr)\n",
    "lower_limit = per_25 - (1.5 * iqr)\n",
    "new_df = df[df['13.64'] < upper_limit]\n",
    "new_df=df[df['13.64'] > lower_limit]\n",
    "sns.boxplot(new_df['13.64'])\n"
   ]
  },
  {
   "cell_type": "code",
   "execution_count": 115,
   "id": "4000c480",
   "metadata": {},
   "outputs": [
    {
     "data": {
      "text/plain": [
       "213"
      ]
     },
     "execution_count": 115,
     "metadata": {},
     "output_type": "execute_result"
    }
   ],
   "source": [
    "\n",
    "len(df)"
   ]
  },
  {
   "cell_type": "code",
   "execution_count": 116,
   "id": "6ad2485f",
   "metadata": {},
   "outputs": [
    {
     "data": {
      "text/plain": [
       "208"
      ]
     },
     "execution_count": 116,
     "metadata": {},
     "output_type": "execute_result"
    }
   ],
   "source": [
    "len(new_df)"
   ]
  },
  {
   "cell_type": "code",
   "execution_count": 154,
   "id": "4584f24c",
   "metadata": {},
   "outputs": [
    {
     "name": "stderr",
     "output_type": "stream",
     "text": [
      "/opt/anaconda3/lib/python3.9/site-packages/seaborn/_decorators.py:36: FutureWarning: Pass the following variable as a keyword arg: x. From version 0.12, the only valid positional argument will be `data`, and passing other arguments without an explicit keyword will result in an error or misinterpretation.\n",
      "  warnings.warn(\n"
     ]
    },
    {
     "data": {
      "text/plain": [
       "208"
      ]
     },
     "execution_count": 154,
     "metadata": {},
     "output_type": "execute_result"
    },
    {
     "data": {
      "image/png": "[encoded data removed]",
      "text/plain": [
       "<Figure size 432x288 with 1 Axes>"
      ]
     },
     "metadata": {
      "needs_background": "light"
     },
     "output_type": "display_data"
    }
   ],
   "source": [
    "per_25=df['1.10'].quantile(0.25)\n",
    "per_75= df['1.10'].quantile(0.75)\n",
    "iqr= per_75-per_25\n",
    "upper_limit = per_75 + (1.5 * iqr)\n",
    "lower_limit = per_25 - (1.5 * iqr)\n",
    "new_df = df[df['1.10'] < upper_limit]\n",
    "new_df=df[df['1.10'] > lower_limit]\n",
    "sns.boxplot(new_df['1.10'])\n",
    "len(new_df)\n"
   ]
  },
  {
   "cell_type": "code",
   "execution_count": 155,
   "id": "bf5a6593",
   "metadata": {},
   "outputs": [
    {
     "name": "stderr",
     "output_type": "stream",
     "text": [
      "/var/folders/7w/vh3pm6nx355b0g53flh1j6n80000gn/T/ipykernel_27500/2007435344.py:1: SettingWithCopyWarning: \n",
      "A value is trying to be set on a copy of a slice from a DataFrame.\n",
      "Try using .loc[row_indexer,col_indexer] = value instead\n",
      "\n",
      "See the caveats in the documentation: https://pandas.pydata.org/pandas-docs/stable/user_guide/indexing.html#returning-a-view-versus-a-copy\n",
      "  new_df.loc[(new_df['1.10']> upper_limit)]= upper_limit\n"
     ]
    },
    {
     "data": {
      "text/plain": [
       "1.52101    False\n",
       "13.64       True\n",
       "4.49        True\n",
       "1.10        True\n",
       "71.78       True\n",
       "0.06       False\n",
       "8.75       False\n",
       "0.00       False\n",
       "0.00.1     False\n",
       "Type        True\n",
       "dtype: bool"
      ]
     },
     "execution_count": 155,
     "metadata": {},
     "output_type": "execute_result"
    }
   ],
   "source": [
    "new_df.loc[(new_df['1.10']> upper_limit)]= upper_limit\n",
    "(zscore(new_df)<3).all()"
   ]
  },
  {
   "cell_type": "code",
   "execution_count": 119,
   "id": "0f0c9916",
   "metadata": {},
   "outputs": [
    {
     "name": "stderr",
     "output_type": "stream",
     "text": [
      "/opt/anaconda3/lib/python3.9/site-packages/seaborn/_decorators.py:36: FutureWarning: Pass the following variable as a keyword arg: x. From version 0.12, the only valid positional argument will be `data`, and passing other arguments without an explicit keyword will result in an error or misinterpretation.\n",
      "  warnings.warn(\n"
     ]
    },
    {
     "data": {
      "text/plain": [
       "205"
      ]
     },
     "execution_count": 119,
     "metadata": {},
     "output_type": "execute_result"
    },
    {
     "data": {
      "image/png": "[encoded data removed]",
      "text/plain": [
       "<Figure size 432x288 with 1 Axes>"
      ]
     },
     "metadata": {
      "needs_background": "light"
     },
     "output_type": "display_data"
    }
   ],
   "source": [
    "per_25=df['71.78'].quantile(0.25)\n",
    "per_75= df['71.78'].quantile(0.75)\n",
    "iqr= per_75-per_25\n",
    "upper_limit = per_75 + (1.5 * iqr)\n",
    "lower_limit = per_25 - (1.5 * iqr)\n",
    "new_df = df[df['71.78'] < upper_limit]\n",
    "new_df=df[df['71.78'] > lower_limit]\n",
    "sns.boxplot(new_df['71.78'])\n",
    "len(new_df)\n"
   ]
  },
  {
   "cell_type": "code",
   "execution_count": 122,
   "id": "dfed362e",
   "metadata": {},
   "outputs": [
    {
     "name": "stderr",
     "output_type": "stream",
     "text": [
      "/opt/anaconda3/lib/python3.9/site-packages/seaborn/_decorators.py:36: FutureWarning: Pass the following variable as a keyword arg: x. From version 0.12, the only valid positional argument will be `data`, and passing other arguments without an explicit keyword will result in an error or misinterpretation.\n",
      "  warnings.warn(\n"
     ]
    },
    {
     "data": {
      "text/plain": [
       "208"
      ]
     },
     "execution_count": 122,
     "metadata": {},
     "output_type": "execute_result"
    },
    {
     "data": {
      "image/png": "[encoded data removed]",
      "text/plain": [
       "<Figure size 432x288 with 1 Axes>"
      ]
     },
     "metadata": {
      "needs_background": "light"
     },
     "output_type": "display_data"
    }
   ],
   "source": [
    "per_25=df['8.75'].quantile(0.25)\n",
    "per_75= df['8.75'].quantile(0.75)\n",
    "iqr= per_75-per_25\n",
    "upper_limit = per_75 +( 1.5 * iqr)\n",
    "lower_limit = per_25 - (1.5 * iqr)\n",
    "new_df = df[df['8.75'] <upper_limit]\n",
    "new_df=df[df['8.75'] > lower_limit]\n",
    "sns.boxplot(new_df['8.75'])\n",
    "len(new_df)"
   ]
  },
  {
   "cell_type": "code",
   "execution_count": 123,
   "id": "5e636fb2",
   "metadata": {},
   "outputs": [],
   "source": [
    "X=new_df.drop(columns =['Type'],axis=1)"
   ]
  },
  {
   "cell_type": "code",
   "execution_count": 124,
   "id": "cde5a173",
   "metadata": {},
   "outputs": [
    {
     "data": {
      "text/plain": [
       "Index(['1.52101', '13.64', '4.49', '1.10', '71.78', '0.06', '8.75', '0.00',\n",
       "       '0.00.1'],\n",
       "      dtype='object')"
      ]
     },
     "execution_count": 124,
     "metadata": {},
     "output_type": "execute_result"
    }
   ],
   "source": [
    "X.columns"
   ]
  },
  {
   "cell_type": "code",
   "execution_count": 125,
   "id": "88303ceb",
   "metadata": {},
   "outputs": [],
   "source": [
    "X_neww=pd.DataFrame(X_new,columns= X.columns)"
   ]
  },
  {
   "cell_type": "code",
   "execution_count": 161,
   "id": "62857afd",
   "metadata": {},
   "outputs": [],
   "source": [
    "#import lib \n",
    "from sklearn.model_selection import train_test_split\n",
    "from sklearn.linear_model import LogisticRegression\n",
    "from sklearn.metrics import accuracy_score,classification_report,confusion_matrix\n",
    "from sklearn.tree import DecisionTreeClassifier\n",
    "dt=DecisionTreeClassifier()\n",
    "X=X_neww"
   ]
  },
  {
   "cell_type": "code",
   "execution_count": 162,
   "id": "f7f67954",
   "metadata": {},
   "outputs": [
    {
     "name": "stdout",
     "output_type": "stream",
     "text": [
      "testing accuracy 0.6666666666666666 random state 1\n",
      "0.6666666666666666 1\n",
      "testing accuracy 0.6481481481481481 random state 2\n",
      "testing accuracy 0.6296296296296297 random state 3\n",
      "testing accuracy 0.7962962962962963 random state 4\n",
      "0.7962962962962963 4\n",
      "testing accuracy 0.7777777777777778 random state 5\n",
      "testing accuracy 0.6481481481481481 random state 6\n",
      "testing accuracy 0.7037037037037037 random state 7\n",
      "testing accuracy 0.6481481481481481 random state 8\n",
      "testing accuracy 0.7222222222222222 random state 9\n",
      "testing accuracy 0.6666666666666666 random state 10\n",
      "testing accuracy 0.42592592592592593 random state 11\n",
      "testing accuracy 0.6111111111111112 random state 12\n",
      "testing accuracy 0.6851851851851852 random state 13\n",
      "testing accuracy 0.7407407407407407 random state 14\n",
      "testing accuracy 0.5925925925925926 random state 15\n",
      "testing accuracy 0.6666666666666666 random state 16\n",
      "testing accuracy 0.7037037037037037 random state 17\n",
      "testing accuracy 0.5370370370370371 random state 18\n",
      "testing accuracy 0.6851851851851852 random state 19\n",
      "testing accuracy 0.6666666666666666 random state 20\n",
      "testing accuracy 0.6296296296296297 random state 21\n",
      "testing accuracy 0.6111111111111112 random state 22\n",
      "testing accuracy 0.7222222222222222 random state 23\n",
      "testing accuracy 0.7407407407407407 random state 24\n",
      "testing accuracy 0.6111111111111112 random state 25\n",
      "testing accuracy 0.5925925925925926 random state 26\n",
      "testing accuracy 0.5925925925925926 random state 27\n",
      "testing accuracy 0.6666666666666666 random state 28\n",
      "testing accuracy 0.8148148148148148 random state 29\n",
      "0.8148148148148148 29\n",
      "testing accuracy 0.6111111111111112 random state 30\n",
      "testing accuracy 0.6296296296296297 random state 31\n",
      "testing accuracy 0.6296296296296297 random state 32\n",
      "testing accuracy 0.5925925925925926 random state 33\n",
      "testing accuracy 0.6666666666666666 random state 34\n",
      "testing accuracy 0.6296296296296297 random state 35\n",
      "testing accuracy 0.6666666666666666 random state 36\n",
      "testing accuracy 0.6296296296296297 random state 37\n",
      "testing accuracy 0.6111111111111112 random state 38\n",
      "testing accuracy 0.6851851851851852 random state 39\n",
      "testing accuracy 0.6481481481481481 random state 40\n",
      "testing accuracy 0.5555555555555556 random state 41\n",
      "testing accuracy 0.6296296296296297 random state 42\n",
      "testing accuracy 0.6666666666666666 random state 43\n",
      "testing accuracy 0.7407407407407407 random state 44\n",
      "testing accuracy 0.5185185185185185 random state 45\n",
      "testing accuracy 0.6111111111111112 random state 46\n",
      "testing accuracy 0.5740740740740741 random state 47\n",
      "testing accuracy 0.6296296296296297 random state 48\n",
      "testing accuracy 0.5370370370370371 random state 49\n",
      "testing accuracy 0.6481481481481481 random state 50\n",
      "testing accuracy 0.7037037037037037 random state 51\n",
      "testing accuracy 0.6481481481481481 random state 52\n",
      "testing accuracy 0.7222222222222222 random state 53\n",
      "testing accuracy 0.5370370370370371 random state 54\n",
      "testing accuracy 0.6851851851851852 random state 55\n",
      "testing accuracy 0.5925925925925926 random state 56\n",
      "testing accuracy 0.6481481481481481 random state 57\n",
      "testing accuracy 0.5925925925925926 random state 58\n",
      "testing accuracy 0.5185185185185185 random state 59\n",
      "testing accuracy 0.6481481481481481 random state 60\n",
      "testing accuracy 0.7037037037037037 random state 61\n",
      "testing accuracy 0.6481481481481481 random state 62\n",
      "testing accuracy 0.6851851851851852 random state 63\n",
      "testing accuracy 0.7407407407407407 random state 64\n",
      "testing accuracy 0.6666666666666666 random state 65\n",
      "testing accuracy 0.5555555555555556 random state 66\n",
      "testing accuracy 0.7037037037037037 random state 67\n",
      "testing accuracy 0.6481481481481481 random state 68\n",
      "testing accuracy 0.5555555555555556 random state 69\n",
      "testing accuracy 0.5925925925925926 random state 70\n",
      "testing accuracy 0.5925925925925926 random state 71\n",
      "testing accuracy 0.7407407407407407 random state 72\n",
      "testing accuracy 0.5925925925925926 random state 73\n",
      "testing accuracy 0.6666666666666666 random state 74\n",
      "testing accuracy 0.6111111111111112 random state 75\n",
      "testing accuracy 0.5925925925925926 random state 76\n",
      "testing accuracy 0.6666666666666666 random state 77\n",
      "testing accuracy 0.6666666666666666 random state 78\n",
      "testing accuracy 0.6481481481481481 random state 79\n",
      "testing accuracy 0.5740740740740741 random state 80\n",
      "testing accuracy 0.7222222222222222 random state 81\n",
      "testing accuracy 0.6666666666666666 random state 82\n",
      "testing accuracy 0.7592592592592593 random state 83\n",
      "testing accuracy 0.5555555555555556 random state 84\n",
      "testing accuracy 0.6851851851851852 random state 85\n",
      "testing accuracy 0.7592592592592593 random state 86\n",
      "testing accuracy 0.46296296296296297 random state 87\n",
      "testing accuracy 0.7222222222222222 random state 88\n",
      "testing accuracy 0.6111111111111112 random state 89\n",
      "testing accuracy 0.6481481481481481 random state 90\n",
      "testing accuracy 0.7222222222222222 random state 91\n",
      "testing accuracy 0.7222222222222222 random state 92\n",
      "testing accuracy 0.7037037037037037 random state 93\n",
      "testing accuracy 0.6111111111111112 random state 94\n",
      "testing accuracy 0.6481481481481481 random state 95\n",
      "testing accuracy 0.5740740740740741 random state 96\n",
      "testing accuracy 0.6111111111111112 random state 97\n",
      "testing accuracy 0.7037037037037037 random state 98\n",
      "testing accuracy 0.5740740740740741 random state 99\n",
      "testing accuracy 0.6666666666666666 random state 100\n",
      "testing accuracy 0.5 random state 101\n",
      "testing accuracy 0.6296296296296297 random state 102\n",
      "testing accuracy 0.6111111111111112 random state 103\n",
      "testing accuracy 0.7037037037037037 random state 104\n",
      "testing accuracy 0.5925925925925926 random state 105\n",
      "testing accuracy 0.7037037037037037 random state 106\n",
      "testing accuracy 0.6851851851851852 random state 107\n",
      "testing accuracy 0.6666666666666666 random state 108\n",
      "testing accuracy 0.5740740740740741 random state 109\n",
      "testing accuracy 0.6481481481481481 random state 110\n",
      "testing accuracy 0.6666666666666666 random state 111\n",
      "testing accuracy 0.5925925925925926 random state 112\n",
      "testing accuracy 0.6666666666666666 random state 113\n",
      "testing accuracy 0.5740740740740741 random state 114\n",
      "testing accuracy 0.6296296296296297 random state 115\n",
      "testing accuracy 0.7222222222222222 random state 116\n",
      "testing accuracy 0.7407407407407407 random state 117\n",
      "testing accuracy 0.6111111111111112 random state 118\n",
      "testing accuracy 0.5370370370370371 random state 119\n",
      "testing accuracy 0.6666666666666666 random state 120\n",
      "testing accuracy 0.6851851851851852 random state 121\n",
      "testing accuracy 0.6296296296296297 random state 122\n",
      "testing accuracy 0.5740740740740741 random state 123\n",
      "testing accuracy 0.6666666666666666 random state 124\n",
      "testing accuracy 0.5185185185185185 random state 125\n",
      "testing accuracy 0.6851851851851852 random state 126\n",
      "testing accuracy 0.5925925925925926 random state 127\n",
      "testing accuracy 0.6481481481481481 random state 128\n",
      "testing accuracy 0.7037037037037037 random state 129\n",
      "testing accuracy 0.6666666666666666 random state 130\n",
      "testing accuracy 0.6296296296296297 random state 131\n",
      "testing accuracy 0.5185185185185185 random state 132\n",
      "testing accuracy 0.6111111111111112 random state 133\n",
      "testing accuracy 0.7407407407407407 random state 134\n",
      "testing accuracy 0.6296296296296297 random state 135\n",
      "testing accuracy 0.7037037037037037 random state 136\n",
      "testing accuracy 0.6481481481481481 random state 137\n",
      "testing accuracy 0.6296296296296297 random state 138\n",
      "testing accuracy 0.6481481481481481 random state 139\n",
      "testing accuracy 0.5925925925925926 random state 140\n",
      "testing accuracy 0.6111111111111112 random state 141\n",
      "testing accuracy 0.6851851851851852 random state 142\n",
      "testing accuracy 0.7592592592592593 random state 143\n",
      "testing accuracy 0.5185185185185185 random state 144\n",
      "testing accuracy 0.5740740740740741 random state 145\n",
      "testing accuracy 0.6111111111111112 random state 146\n",
      "testing accuracy 0.5925925925925926 random state 147\n",
      "testing accuracy 0.7222222222222222 random state 148\n",
      "testing accuracy 0.6481481481481481 random state 149\n",
      "testing accuracy 0.6481481481481481 random state 150\n",
      "testing accuracy 0.5 random state 151\n",
      "testing accuracy 0.7407407407407407 random state 152\n",
      "testing accuracy 0.6296296296296297 random state 153\n",
      "testing accuracy 0.7037037037037037 random state 154\n",
      "testing accuracy 0.5925925925925926 random state 155\n",
      "testing accuracy 0.5925925925925926 random state 156\n",
      "testing accuracy 0.7037037037037037 random state 157\n",
      "testing accuracy 0.6296296296296297 random state 158\n",
      "testing accuracy 0.5925925925925926 random state 159\n",
      "testing accuracy 0.5925925925925926 random state 160\n",
      "testing accuracy 0.6481481481481481 random state 161\n",
      "testing accuracy 0.5555555555555556 random state 162\n",
      "testing accuracy 0.6666666666666666 random state 163\n",
      "testing accuracy 0.6111111111111112 random state 164\n",
      "testing accuracy 0.6666666666666666 random state 165\n",
      "testing accuracy 0.6296296296296297 random state 166\n",
      "testing accuracy 0.6111111111111112 random state 167\n",
      "testing accuracy 0.6851851851851852 random state 168\n",
      "testing accuracy 0.5555555555555556 random state 169\n",
      "testing accuracy 0.6851851851851852 random state 170\n",
      "testing accuracy 0.5740740740740741 random state 171\n",
      "testing accuracy 0.6481481481481481 random state 172\n",
      "testing accuracy 0.6666666666666666 random state 173\n",
      "testing accuracy 0.6481481481481481 random state 174\n",
      "testing accuracy 0.5740740740740741 random state 175\n",
      "testing accuracy 0.6111111111111112 random state 176\n",
      "testing accuracy 0.7037037037037037 random state 177\n",
      "testing accuracy 0.5555555555555556 random state 178\n",
      "testing accuracy 0.5925925925925926 random state 179\n",
      "testing accuracy 0.6666666666666666 random state 180\n"
     ]
    },
    {
     "name": "stdout",
     "output_type": "stream",
     "text": [
      "testing accuracy 0.6296296296296297 random state 181\n",
      "testing accuracy 0.5555555555555556 random state 182\n",
      "testing accuracy 0.6666666666666666 random state 183\n",
      "testing accuracy 0.6851851851851852 random state 184\n",
      "testing accuracy 0.6481481481481481 random state 185\n",
      "testing accuracy 0.5740740740740741 random state 186\n",
      "testing accuracy 0.6296296296296297 random state 187\n",
      "testing accuracy 0.5925925925925926 random state 188\n",
      "testing accuracy 0.6111111111111112 random state 189\n",
      "testing accuracy 0.5740740740740741 random state 190\n",
      "testing accuracy 0.6851851851851852 random state 191\n",
      "testing accuracy 0.5925925925925926 random state 192\n",
      "testing accuracy 0.7037037037037037 random state 193\n",
      "testing accuracy 0.7407407407407407 random state 194\n",
      "testing accuracy 0.6111111111111112 random state 195\n",
      "testing accuracy 0.46296296296296297 random state 196\n",
      "testing accuracy 0.6851851851851852 random state 197\n",
      "testing accuracy 0.6666666666666666 random state 198\n",
      "testing accuracy 0.6666666666666666 random state 199\n",
      "testing accuracy 0.6481481481481481 random state 200\n",
      "testing accuracy 0.7037037037037037 random state 201\n",
      "testing accuracy 0.6481481481481481 random state 202\n",
      "testing accuracy 0.5555555555555556 random state 203\n",
      "testing accuracy 0.7777777777777778 random state 204\n",
      "testing accuracy 0.6666666666666666 random state 205\n",
      "testing accuracy 0.5740740740740741 random state 206\n",
      "testing accuracy 0.7037037037037037 random state 207\n",
      "testing accuracy 0.5185185185185185 random state 208\n",
      "testing accuracy 0.6666666666666666 random state 209\n",
      "testing accuracy 0.5555555555555556 random state 210\n",
      "testing accuracy 0.6666666666666666 random state 211\n",
      "testing accuracy 0.6666666666666666 random state 212\n",
      "testing accuracy 0.7037037037037037 random state 213\n",
      "testing accuracy 0.5925925925925926 random state 214\n",
      "testing accuracy 0.5370370370370371 random state 215\n",
      "testing accuracy 0.7222222222222222 random state 216\n",
      "testing accuracy 0.6666666666666666 random state 217\n",
      "testing accuracy 0.5370370370370371 random state 218\n",
      "testing accuracy 0.5555555555555556 random state 219\n",
      "testing accuracy 0.7407407407407407 random state 220\n",
      "testing accuracy 0.6851851851851852 random state 221\n",
      "testing accuracy 0.6666666666666666 random state 222\n",
      "testing accuracy 0.6111111111111112 random state 223\n",
      "testing accuracy 0.5185185185185185 random state 224\n",
      "testing accuracy 0.6666666666666666 random state 225\n",
      "testing accuracy 0.6481481481481481 random state 226\n",
      "testing accuracy 0.6851851851851852 random state 227\n",
      "testing accuracy 0.5925925925925926 random state 228\n",
      "testing accuracy 0.5555555555555556 random state 229\n",
      "testing accuracy 0.6851851851851852 random state 230\n",
      "testing accuracy 0.6666666666666666 random state 231\n",
      "testing accuracy 0.6666666666666666 random state 232\n",
      "testing accuracy 0.4444444444444444 random state 233\n",
      "testing accuracy 0.6851851851851852 random state 234\n",
      "testing accuracy 0.6111111111111112 random state 235\n",
      "testing accuracy 0.6296296296296297 random state 236\n",
      "testing accuracy 0.6481481481481481 random state 237\n",
      "testing accuracy 0.6111111111111112 random state 238\n",
      "testing accuracy 0.6111111111111112 random state 239\n",
      "testing accuracy 0.5925925925925926 random state 240\n",
      "testing accuracy 0.6296296296296297 random state 241\n",
      "testing accuracy 0.6481481481481481 random state 242\n",
      "testing accuracy 0.5555555555555556 random state 243\n",
      "testing accuracy 0.5740740740740741 random state 244\n",
      "testing accuracy 0.6296296296296297 random state 245\n",
      "testing accuracy 0.6296296296296297 random state 246\n",
      "testing accuracy 0.6111111111111112 random state 247\n",
      "testing accuracy 0.6111111111111112 random state 248\n",
      "testing accuracy 0.6666666666666666 random state 249\n",
      "testing accuracy 0.5740740740740741 random state 250\n",
      "testing accuracy 0.46296296296296297 random state 251\n",
      "testing accuracy 0.6481481481481481 random state 252\n",
      "testing accuracy 0.7222222222222222 random state 253\n",
      "testing accuracy 0.6666666666666666 random state 254\n",
      "testing accuracy 0.6111111111111112 random state 255\n",
      "testing accuracy 0.6481481481481481 random state 256\n",
      "testing accuracy 0.6666666666666666 random state 257\n",
      "testing accuracy 0.5740740740740741 random state 258\n",
      "testing accuracy 0.7222222222222222 random state 259\n",
      "testing accuracy 0.6851851851851852 random state 260\n",
      "testing accuracy 0.7222222222222222 random state 261\n",
      "testing accuracy 0.6481481481481481 random state 262\n",
      "testing accuracy 0.6851851851851852 random state 263\n",
      "testing accuracy 0.5 random state 264\n",
      "testing accuracy 0.5740740740740741 random state 265\n",
      "testing accuracy 0.5740740740740741 random state 266\n",
      "testing accuracy 0.5 random state 267\n",
      "testing accuracy 0.6296296296296297 random state 268\n",
      "testing accuracy 0.6111111111111112 random state 269\n",
      "testing accuracy 0.5555555555555556 random state 270\n",
      "testing accuracy 0.6481481481481481 random state 271\n",
      "testing accuracy 0.6851851851851852 random state 272\n",
      "testing accuracy 0.7222222222222222 random state 273\n",
      "testing accuracy 0.5925925925925926 random state 274\n",
      "testing accuracy 0.6296296296296297 random state 275\n",
      "testing accuracy 0.6111111111111112 random state 276\n",
      "testing accuracy 0.5555555555555556 random state 277\n",
      "testing accuracy 0.46296296296296297 random state 278\n",
      "testing accuracy 0.6851851851851852 random state 279\n",
      "testing accuracy 0.5925925925925926 random state 280\n",
      "testing accuracy 0.6666666666666666 random state 281\n",
      "testing accuracy 0.7407407407407407 random state 282\n",
      "testing accuracy 0.7222222222222222 random state 283\n",
      "testing accuracy 0.5925925925925926 random state 284\n",
      "testing accuracy 0.6111111111111112 random state 285\n",
      "testing accuracy 0.6296296296296297 random state 286\n",
      "testing accuracy 0.6481481481481481 random state 287\n",
      "testing accuracy 0.7592592592592593 random state 288\n",
      "testing accuracy 0.6111111111111112 random state 289\n",
      "testing accuracy 0.5370370370370371 random state 290\n",
      "testing accuracy 0.6666666666666666 random state 291\n",
      "testing accuracy 0.7407407407407407 random state 292\n",
      "testing accuracy 0.5925925925925926 random state 293\n",
      "testing accuracy 0.5 random state 294\n",
      "testing accuracy 0.5 random state 295\n",
      "testing accuracy 0.7407407407407407 random state 296\n",
      "testing accuracy 0.5740740740740741 random state 297\n",
      "testing accuracy 0.6851851851851852 random state 298\n",
      "testing accuracy 0.6296296296296297 random state 299\n"
     ]
    }
   ],
   "source": [
    "#best random state\n",
    "maxAccu =0\n",
    "maxRs =0\n",
    "\n",
    "for i in range(1,300):\n",
    "    X_train,X_test,Y_train,Y_test=train_test_split(X,Y,test_size=0.25,random_state=i)\n",
    "    #lr=LogisticRegression()\n",
    "    \n",
    "    dt.fit(X_train,Y_train)\n",
    "    predt=dt.predict(X_test)\n",
    "    acc=accuracy_score(Y_test,predt)\n",
    "    print('testing accuracy',acc,'random state',i)\n",
    "    \n",
    "    if acc> maxAccu:\n",
    "        maxAccu=acc\n",
    "        maxRs=i\n",
    "        print(maxAccu,i)\n",
    "        "
   ]
  },
  {
   "cell_type": "code",
   "execution_count": 163,
   "id": "e95ae507",
   "metadata": {},
   "outputs": [
    {
     "name": "stdout",
     "output_type": "stream",
     "text": [
      "best accuracy 0.8148148148148148 29\n"
     ]
    }
   ],
   "source": [
    "\n",
    "print('best accuracy', maxAccu , maxRs)    "
   ]
  },
  {
   "cell_type": "code",
   "execution_count": 164,
   "id": "b5d7ab92",
   "metadata": {},
   "outputs": [],
   "source": [
    "#spliting the data \n",
    "X_train,X_test,Y_train,Y_test=train_test_split(X,Y,test_size=0.25,random_state=29)"
   ]
  },
  {
   "cell_type": "code",
   "execution_count": 165,
   "id": "57d7a5e2",
   "metadata": {},
   "outputs": [
    {
     "name": "stdout",
     "output_type": "stream",
     "text": [
      "              precision    recall  f1-score   support\n",
      "\n",
      "           1       0.67      0.71      0.69        14\n",
      "           2       0.71      0.83      0.77        18\n",
      "           3       0.67      0.50      0.57         4\n",
      "           5       1.00      0.50      0.67         6\n",
      "           6       1.00      0.33      0.50         3\n",
      "           7       0.82      1.00      0.90         9\n",
      "\n",
      "    accuracy                           0.74        54\n",
      "   macro avg       0.81      0.65      0.68        54\n",
      "weighted avg       0.76      0.74      0.73        54\n",
      "\n",
      "[[10  1  1  0  0  2]\n",
      " [ 3 15  0  0  0  0]\n",
      " [ 2  0  2  0  0  0]\n",
      " [ 0  3  0  3  0  0]\n",
      " [ 0  2  0  0  1  0]\n",
      " [ 0  0  0  0  0  9]]\n"
     ]
    }
   ],
   "source": [
    "# decision tree\n",
    "from sklearn.tree import DecisionTreeClassifier\n",
    "dt=DecisionTreeClassifier()\n",
    "dt.fit(X_train,Y_train)\n",
    "Y_predt=dt.predict(X_test)\n",
    "\n",
    "print(classification_report(Y_test,Y_predt))\n",
    "print(confusion_matrix(Y_test,Y_predt))\n"
   ]
  },
  {
   "cell_type": "code",
   "execution_count": 166,
   "id": "8c6f9a91",
   "metadata": {},
   "outputs": [
    {
     "name": "stdout",
     "output_type": "stream",
     "text": [
      "              precision    recall  f1-score   support\n",
      "\n",
      "           1       0.67      0.71      0.69        14\n",
      "           2       0.71      0.83      0.77        18\n",
      "           3       0.67      0.50      0.57         4\n",
      "           5       1.00      0.50      0.67         6\n",
      "           6       1.00      0.33      0.50         3\n",
      "           7       0.82      1.00      0.90         9\n",
      "\n",
      "    accuracy                           0.74        54\n",
      "   macro avg       0.81      0.65      0.68        54\n",
      "weighted avg       0.76      0.74      0.73        54\n",
      "\n",
      "[[10  1  1  0  0  2]\n",
      " [ 3 15  0  0  0  0]\n",
      " [ 2  0  2  0  0  0]\n",
      " [ 0  3  0  3  0  0]\n",
      " [ 0  2  0  0  1  0]\n",
      " [ 0  0  0  0  0  9]]\n"
     ]
    }
   ],
   "source": [
    "#Random forest classifier\n",
    "from sklearn.ensemble import RandomForestClassifier\n",
    "rf=RandomForestClassifier(n_estimators=400)\n",
    "rf.fit(X_train,Y_train)\n",
    "Y_predt=dt.predict(X_test)\n",
    "\n",
    "print(classification_report(Y_test,Y_predt))\n",
    "print(confusion_matrix(Y_test,Y_predt))\n"
   ]
  },
  {
   "cell_type": "code",
   "execution_count": 167,
   "id": "bccc6273",
   "metadata": {},
   "outputs": [
    {
     "name": "stdout",
     "output_type": "stream",
     "text": [
      "              precision    recall  f1-score   support\n",
      "\n",
      "           1       0.67      0.71      0.69        14\n",
      "           2       0.71      0.83      0.77        18\n",
      "           3       0.67      0.50      0.57         4\n",
      "           5       1.00      0.50      0.67         6\n",
      "           6       1.00      0.33      0.50         3\n",
      "           7       0.82      1.00      0.90         9\n",
      "\n",
      "    accuracy                           0.74        54\n",
      "   macro avg       0.81      0.65      0.68        54\n",
      "weighted avg       0.76      0.74      0.73        54\n",
      "\n",
      "[[10  1  1  0  0  2]\n",
      " [ 3 15  0  0  0  0]\n",
      " [ 2  0  2  0  0  0]\n",
      " [ 0  3  0  3  0  0]\n",
      " [ 0  2  0  0  1  0]\n",
      " [ 0  0  0  0  0  9]]\n"
     ]
    }
   ],
   "source": [
    "from sklearn.svm import SVC\n",
    "svc=SVC()\n",
    "svc.fit(X_train,Y_train)\n",
    "Y_predt=dt.predict(X_test)\n",
    "\n",
    "print(classification_report(Y_test,Y_predt))\n",
    "print(confusion_matrix(Y_test,Y_predt))\n"
   ]
  },
  {
   "cell_type": "code",
   "execution_count": 169,
   "id": "39252a8e",
   "metadata": {},
   "outputs": [
    {
     "name": "stdout",
     "output_type": "stream",
     "text": [
      "The accuracy score of the test dta is 0.6481481481481481\n",
      "              precision    recall  f1-score   support\n",
      "\n",
      "           1       0.55      0.43      0.48        14\n",
      "           2       0.56      0.83      0.67        18\n",
      "           3       0.00      0.00      0.00         4\n",
      "           5       1.00      0.33      0.50         6\n",
      "           6       1.00      1.00      1.00         3\n",
      "           7       0.90      1.00      0.95         9\n",
      "\n",
      "    accuracy                           0.65        54\n",
      "   macro avg       0.67      0.60      0.60        54\n",
      "weighted avg       0.64      0.65      0.62        54\n",
      "\n",
      "[[ 6  7  1  0  0  0]\n",
      " [ 2 15  0  0  0  1]\n",
      " [ 3  1  0  0  0  0]\n",
      " [ 0  4  0  2  0  0]\n",
      " [ 0  0  0  0  3  0]\n",
      " [ 0  0  0  0  0  9]]\n"
     ]
    }
   ],
   "source": [
    "#model training(logistic regression modelfor binary dataset)\n",
    "md= LogisticRegression()\n",
    "\n",
    "md.fit(X_train , Y_train)\n",
    "train_pedict_values= md.predict(X_train)\n",
    "#model score on tet data\n",
    "test_pedict_values= md.predict(X_test)\n",
    "model_Y_test= accuracy_score(Y_test,test_pedict_values)\n",
    "print('The accuracy score of the test dta is',model_Y_test)\n",
    "print(classification_report(Y_test,test_pedict_values))\n",
    "print(confusion_matrix(Y_test,test_pedict_values))\n"
   ]
  },
  {
   "cell_type": "code",
   "execution_count": 173,
   "id": "15c777f1",
   "metadata": {},
   "outputs": [
    {
     "name": "stdout",
     "output_type": "stream",
     "text": [
      "cross validation score 0.6760797342192691\n"
     ]
    }
   ],
   "source": [
    "#cross validation\n",
    "from sklearn.model_selection import cross_val_score\n",
    "cv_1= cross_val_score(rf,X,Y,cv=5)\n",
    "print(\"cross validation score\", cv_1.mean())"
   ]
  },
  {
   "cell_type": "code",
   "execution_count": 174,
   "id": "22a00cc8",
   "metadata": {},
   "outputs": [
    {
     "name": "stdout",
     "output_type": "stream",
     "text": [
      "cross validation score 0.573311184939092\n"
     ]
    }
   ],
   "source": [
    "#cross validation\n",
    "from sklearn.model_selection import cross_val_score\n",
    "cv_2= cross_val_score(dt,X,Y,cv=5)\n",
    "print(\"cross validation score\", cv_2.mean())"
   ]
  },
  {
   "cell_type": "code",
   "execution_count": 175,
   "id": "29a8af01",
   "metadata": {},
   "outputs": [
    {
     "name": "stdout",
     "output_type": "stream",
     "text": [
      "cross validation score 0.6152823920265781\n"
     ]
    }
   ],
   "source": [
    "#cross validation\n",
    "from sklearn.model_selection import cross_val_score\n",
    "cv_2= cross_val_score(svc,X,Y,cv=5)\n",
    "print(\"cross validation score\", cv_2.mean())"
   ]
  },
  {
   "cell_type": "code",
   "execution_count": 177,
   "id": "a78dace8",
   "metadata": {},
   "outputs": [
    {
     "name": "stdout",
     "output_type": "stream",
     "text": [
      "cross validation score 0.6056478405315615\n"
     ]
    }
   ],
   "source": [
    "#cross validation\n",
    "from sklearn.model_selection import cross_val_score\n",
    "cv_2= cross_val_score(md,X,Y,cv=5)\n",
    "print(\"cross validation score\", cv_2.mean())"
   ]
  },
  {
   "cell_type": "code",
   "execution_count": 246,
   "id": "ebb0c40d",
   "metadata": {},
   "outputs": [
    {
     "data": {
      "text/plain": [
       "RandomForestClassifier()"
      ]
     },
     "execution_count": 246,
     "metadata": {},
     "output_type": "execute_result"
    }
   ],
   "source": [
    "RandomForestClassifier()"
   ]
  },
  {
   "cell_type": "code",
   "execution_count": 288,
   "id": "814f4f82",
   "metadata": {},
   "outputs": [],
   "source": [
    "from sklearn.model_selection import GridSearchCV\n",
    "#parameter\n",
    "parameters={\n",
    "           \n",
    "           'criterion':['gini'],\n",
    "           'n_estimators':[100]}"
   ]
  },
  {
   "cell_type": "code",
   "execution_count": 289,
   "id": "c5f5e2d4",
   "metadata": {},
   "outputs": [],
   "source": [
    "GVC = GridSearchCV ( estimator =RandomForestClassifier(),\n",
    "                    param_grid = parameters,\n",
    "                    cv=5,\n",
    "                    scoring=\"accuracy\")\n",
    "\n",
    "\n",
    "\n",
    "\n",
    "\n"
   ]
  },
  {
   "cell_type": "code",
   "execution_count": 290,
   "id": "a91b4190",
   "metadata": {},
   "outputs": [
    {
     "data": {
      "text/plain": [
       "GridSearchCV(cv=5, estimator=RandomForestClassifier(),\n",
       "             param_grid={'criterion': ['gini'], 'n_estimators': [100]},\n",
       "             scoring='accuracy')"
      ]
     },
     "execution_count": 290,
     "metadata": {},
     "output_type": "execute_result"
    }
   ],
   "source": [
    "GVC\n",
    "\n",
    "\n",
    "\n"
   ]
  },
  {
   "cell_type": "code",
   "execution_count": 291,
   "id": "ad4af3d7",
   "metadata": {},
   "outputs": [
    {
     "data": {
      "text/plain": [
       "GridSearchCV(cv=5, estimator=RandomForestClassifier(),\n",
       "             param_grid={'criterion': ['gini'], 'n_estimators': [100]},\n",
       "             scoring='accuracy')"
      ]
     },
     "execution_count": 291,
     "metadata": {},
     "output_type": "execute_result"
    }
   ],
   "source": [
    "GVC.fit(X_train,Y_train)"
   ]
  },
  {
   "cell_type": "code",
   "execution_count": 292,
   "id": "17ae8082",
   "metadata": {},
   "outputs": [
    {
     "data": {
      "text/plain": [
       "{'criterion': 'gini', 'n_estimators': 100}"
      ]
     },
     "execution_count": 292,
     "metadata": {},
     "output_type": "execute_result"
    }
   ],
   "source": [
    "GVC.best_params_"
   ]
  },
  {
   "cell_type": "code",
   "execution_count": 294,
   "id": "39b7cb90",
   "metadata": {},
   "outputs": [],
   "source": [
    "GVC_pred=GVC.predict(X_test)"
   ]
  },
  {
   "cell_type": "code",
   "execution_count": 295,
   "id": "4691f15e",
   "metadata": {},
   "outputs": [
    {
     "data": {
      "text/plain": [
       "0.7592592592592593"
      ]
     },
     "execution_count": 295,
     "metadata": {},
     "output_type": "execute_result"
    }
   ],
   "source": [
    "accuracy_score(Y_test,GVC_pred)"
   ]
  },
  {
   "cell_type": "code",
   "execution_count": null,
   "id": "187e983f",
   "metadata": {},
   "outputs": [],
   "source": []
  }
 ],
 "metadata": {
  "kernelspec": {
   "display_name": "Python 3 (ipykernel)",
   "language": "python",
   "name": "python3"
  },
  "language_info": {
   "codemirror_mode": {
    "name": "ipython",
    "version": 3
   },
   "file_extension": ".py",
   "mimetype": "text/x-python",
   "name": "python",
   "nbconvert_exporter": "python",
   "pygments_lexer": "ipython3",
   "version": "3.9.12"
  }
 },
 "nbformat": 4,
 "nbformat_minor": 5
}
